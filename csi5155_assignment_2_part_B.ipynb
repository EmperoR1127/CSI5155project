{
  "nbformat": 4,
  "nbformat_minor": 0,
  "metadata": {
    "colab": {
      "name": "csi5155_assignment_2_part_B.ipynb",
      "provenance": [],
      "include_colab_link": true
    },
    "kernelspec": {
      "name": "python3",
      "display_name": "Python 3"
    }
  },
  "cells": [
    {
      "cell_type": "markdown",
      "metadata": {
        "id": "view-in-github",
        "colab_type": "text"
      },
      "source": [
        "<a href=\"https://colab.research.google.com/github/EmperoR1127/CSI5155_project/blob/master/csi5155_assignment_2_part_B.ipynb\" target=\"_parent\"><img src=\"https://colab.research.google.com/assets/colab-badge.svg\" alt=\"Open In Colab\"/></a>"
      ]
    },
    {
      "cell_type": "code",
      "metadata": {
        "id": "zu7fkfDDpIVB",
        "colab_type": "code",
        "outputId": "c7e125b5-5120-4e36-a2b4-4978eaa92b55",
        "colab": {
          "base_uri": "https://localhost:8080/",
          "height": 54
        }
      },
      "source": [
        "from google.colab import drive\n",
        "drive.mount('/content/drive')"
      ],
      "execution_count": 0,
      "outputs": [
        {
          "output_type": "stream",
          "text": [
            "Drive already mounted at /content/drive; to attempt to forcibly remount, call drive.mount(\"/content/drive\", force_remount=True).\n"
          ],
          "name": "stdout"
        }
      ]
    },
    {
      "cell_type": "code",
      "metadata": {
        "id": "-UgFPIfDpPEb",
        "colab_type": "code",
        "colab": {}
      },
      "source": [
        "# To support both python 2 and python 3\n",
        "from __future__ import division, print_function, unicode_literals\n",
        "\n",
        "# Common imports\n",
        "import numpy as np\n",
        "import os\n",
        "from scipy.io import arff\n",
        "import pandas as pd\n",
        "\n",
        "# to make this notebook's output stable across runs\n",
        "np.random.seed(42)\n",
        "\n",
        "# To plot pretty figures\n",
        "%matplotlib inline\n",
        "import matplotlib as mpl\n",
        "import matplotlib.pyplot as plt\n",
        "mpl.rc('axes', labelsize=14)\n",
        "mpl.rc('xtick', labelsize=12)\n",
        "mpl.rc('ytick', labelsize=12)\n",
        "\n",
        "# Where to save the figures\n",
        "PROJECT_ROOT_DIR = \"/content/drive/My Drive/Images/\"\n",
        "\n",
        "def save_fig(fig_id, tight_layout=True):\n",
        "    path = os.path.join(PROJECT_ROOT_DIR, \"images\", fig_id + \".png\")\n",
        "    print(\"Saving figure\", fig_id)\n",
        "    if tight_layout:\n",
        "        plt.tight_layout()\n",
        "    plt.savefig(path, format='png', dpi=300)"
      ],
      "execution_count": 0,
      "outputs": []
    },
    {
      "cell_type": "code",
      "metadata": {
        "id": "dwNLpKYPr_aa",
        "colab_type": "code",
        "colab": {}
      },
      "source": [
        "#load four dataset\n",
        "seismic_bumps_data = pd.DataFrame(arff.loadarff('/content/drive/My Drive/Data/seismic-bumps.arff')[0])\n",
        "labor_neg_data = pd.read_csv(\"/content/drive/My Drive/Data/labor-neg.csv\")\n",
        "iris_data = pd.read_csv(\"/content/drive/My Drive/Data/iris.csv\")\n",
        "voting_data = pd.read_csv(\"/content/drive/My Drive/Data/voting-records.csv\")"
      ],
      "execution_count": 0,
      "outputs": []
    },
    {
      "cell_type": "code",
      "metadata": {
        "id": "JN6fnyS9t04G",
        "colab_type": "code",
        "outputId": "77ba7b73-9ccc-4486-8d3d-779d26962bbe",
        "colab": {
          "base_uri": "https://localhost:8080/",
          "height": 72
        }
      },
      "source": [
        "#process the seismic_bumps_data\n",
        "#pre-process the train_set\n",
        "sb_train_labels = seismic_bumps_data[[\"class\"]].copy()\n",
        "sb_train_set = seismic_bumps_data.drop([\"class\"], axis=1)\n",
        "sb_train_labels[\"class\"] = sb_train_labels[\"class\"].map(lambda x: str(x)[2])\n",
        "sb_train_set_num = seismic_bumps_data.drop([\"seismic\",\"seismoacoustic\",\"shift\", \"ghazard\", \"class\"], axis=1)\n",
        "sb_train_set_cat = seismic_bumps_data.drop([\"genergy\",\"gpuls\",\"gdenergy\", \"gdpuls\", \"nbumps\", \"nbumps2\", \"nbumps3\", \"nbumps4\", \"nbumps5\", \"nbumps6\", \"nbumps7\", \"nbumps89\", \"energy\", \"maxenergy\", \"class\"], axis=1)\n",
        "#build the pipeline\n",
        "from sklearn.pipeline import Pipeline\n",
        "from sklearn.impute import SimpleImputer\n",
        "from sklearn.preprocessing import StandardScaler\n",
        "from sklearn.compose import ColumnTransformer\n",
        "from sklearn.preprocessing import OneHotEncoder\n",
        "from sklearn.preprocessing import LabelEncoder\n",
        "sb_num_pipeline = Pipeline([('imputer', SimpleImputer(strategy=\"median\")),('std_scaler', StandardScaler()),])\n",
        "sb_full_pipeline = ColumnTransformer([(\"num\", sb_num_pipeline, list(sb_train_set_num)),(\"cat\", OneHotEncoder(), list(sb_train_set_cat)),])\n",
        "#prepare the data\n",
        "sb_train_set_prepared = sb_full_pipeline.fit_transform(sb_train_set)\n",
        "#prepare the target\n",
        "sb_encoder = LabelEncoder()\n",
        "sb_train_labels_prepared = sb_encoder.fit_transform(sb_train_labels)"
      ],
      "execution_count": 55,
      "outputs": [
        {
          "output_type": "stream",
          "text": [
            "/usr/local/lib/python3.6/dist-packages/sklearn/preprocessing/label.py:235: DataConversionWarning: A column-vector y was passed when a 1d array was expected. Please change the shape of y to (n_samples, ), for example using ravel().\n",
            "  y = column_or_1d(y, warn=True)\n"
          ],
          "name": "stderr"
        }
      ]
    },
    {
      "cell_type": "code",
      "metadata": {
        "id": "SBT3H5bkfx7h",
        "colab_type": "code",
        "colab": {}
      },
      "source": [
        "#process the labor_neg_data\n",
        "ln_train_labels = labor_neg_data['class'].copy()\n",
        "ln_train_set = labor_neg_data.drop([\"class\"], axis = 1)\n",
        "ln_train_set_num = ln_train_set.drop([\"cola\",\"pension\",\"educ_allw\", \"vacation\", \"lngtrm_disabil\", \"dntl_ins\", \"bereavement\", \"empl_hplan\"], axis=1)\n",
        "ln_train_set_cat = ln_train_set.drop([\"dur\",\"wage1\",\"wage2\", \"wage3\", \"hours\", \"stby_pay\", \"shift_diff\", \"holidays\"], axis=1)\n",
        "#build the pipeline\n",
        "ln_num_pipeline = Pipeline([('imputer', SimpleImputer(strategy=\"median\")),('std_scaler', StandardScaler()),])\n",
        "ln_full_pipeline = ColumnTransformer([(\"num\", ln_num_pipeline, list(ln_train_set_num)),(\"cat\", OneHotEncoder(), list(ln_train_set_cat)),])\n",
        "#prepare the data\n",
        "ln_train_set_prepared = ln_full_pipeline.fit_transform(ln_train_set)\n",
        "#prepare the target\n",
        "ln_encoder = LabelEncoder()\n",
        "ln_train_labels_prepared = ln_encoder.fit_transform(ln_train_labels)"
      ],
      "execution_count": 0,
      "outputs": []
    },
    {
      "cell_type": "code",
      "metadata": {
        "id": "CJYFyJpRf390",
        "colab_type": "code",
        "colab": {}
      },
      "source": [
        "#process the iris_data\n",
        "ir_train_labels = iris_data['class'].copy()\n",
        "ir_train_set = iris_data.drop([\"class\"], axis = 1)\n",
        "#build the pipeline\n",
        "ir_num_pipeline = Pipeline([('imputer', SimpleImputer(strategy=\"median\")),('std_scaler', StandardScaler()),])\n",
        "ir_full_pipeline = ColumnTransformer([(\"num\", ir_num_pipeline, list(ir_train_set)),])\n",
        "#prepare the data\n",
        "ir_train_set_prepared = ir_full_pipeline.fit_transform(ir_train_set)\n",
        "#prepare the target\n",
        "ir_encoder = LabelEncoder()\n",
        "ir_train_labels_prepared = ir_encoder.fit_transform(ir_train_labels)"
      ],
      "execution_count": 0,
      "outputs": []
    },
    {
      "cell_type": "code",
      "metadata": {
        "id": "3GhBInUJ2O2R",
        "colab_type": "code",
        "colab": {}
      },
      "source": [
        "#process the voting_data\n",
        "vd_train_labels = voting_data['Class'].copy()\n",
        "vd_train_set = voting_data.drop([\"Class\"], axis = 1)\n",
        "#build the pipeline\n",
        "vd_full_pipeline = ColumnTransformer([(\"cat\", OneHotEncoder(), list(vd_train_set)),])\n",
        "#prepare the data\n",
        "vd_train_set_prepared = vd_full_pipeline.fit_transform(vd_train_set)\n",
        "#prepare the target\n",
        "vd_encoder = LabelEncoder()\n",
        "vd_train_labels_prepared = vd_encoder.fit_transform(vd_train_labels)"
      ],
      "execution_count": 0,
      "outputs": []
    },
    {
      "cell_type": "code",
      "metadata": {
        "id": "eOiTnG9Hf3ri",
        "colab_type": "code",
        "colab": {
          "base_uri": "https://localhost:8080/",
          "height": 228
        },
        "outputId": "826a19f6-081c-44b4-9080-9a1d061e8f10"
      },
      "source": [
        "#train the model using DECISION TREE algorithm with 10 fold cross validation\n",
        "from sklearn.tree import DecisionTreeClassifier\n",
        "from sklearn.model_selection import cross_val_predict\n",
        "from sklearn.metrics import make_scorer\n",
        "from sklearn.metrics import accuracy_score\n",
        "from sklearn.model_selection import cross_val_score\n",
        "score_method = make_scorer(accuracy_score)\n",
        "dt_clf = DecisionTreeClassifier()\n",
        "print(\"The accuracies of the DECISION TREE algorithm trained against seismic_bumps_data are: \")\n",
        "print(cross_val_score(dt_clf, sb_train_set_prepared, sb_train_labels_prepared, cv=10, scoring = score_method))\n",
        "print(\"The accuracies of the DECISION TREE algorithm trained against labor_neg_data are: \")\n",
        "print(cross_val_score(dt_clf, ln_train_set_prepared, ln_train_labels_prepared, cv=10, scoring = score_method))\n",
        "print(\"The accuracies of the DECISION TREE algorithm trained against iris_data are: \")\n",
        "print(cross_val_score(dt_clf, ir_train_set_prepared, ir_train_labels_prepared, cv=10, scoring = score_method))\n",
        "print(\"The accuracies of the DECISION TREE algorithm trained against voting_data are: \")\n",
        "print(cross_val_score(dt_clf, vd_train_set_prepared, vd_train_labels_prepared, cv=10, scoring = score_method))"
      ],
      "execution_count": 63,
      "outputs": [
        {
          "output_type": "stream",
          "text": [
            "The accuracies of the DECISION TREE algorithm trained against seismic_bumps_data are: \n",
            "[0.86100386 0.63706564 0.75289575 0.86100386 0.87596899 0.89147287\n",
            " 0.86434109 0.91472868 0.89147287 0.91860465]\n",
            "The accuracies of the DECISION TREE algorithm trained against labor_neg_data are: \n",
            "[1.         0.83333333 1.         0.66666667 1.         0.5\n",
            " 0.83333333 0.8        0.8        1.        ]\n",
            "The accuracies of the DECISION TREE algorithm trained against iris_data are: \n",
            "[1.         0.93333333 1.         0.93333333 0.93333333 0.86666667\n",
            " 0.93333333 0.93333333 1.         1.        ]\n",
            "The accuracies of the DECISION TREE algorithm trained against voting_data are: \n",
            "[0.95454545 0.97727273 0.97727273 1.         0.97727273 0.95454545\n",
            " 0.95454545 0.90697674 0.88095238 0.95238095]\n"
          ],
          "name": "stdout"
        }
      ]
    },
    {
      "cell_type": "code",
      "metadata": {
        "id": "6bl364PQiEmN",
        "colab_type": "code",
        "colab": {
          "base_uri": "https://localhost:8080/",
          "height": 228
        },
        "outputId": "de2498ba-6685-45cb-9c2d-a6483e297268"
      },
      "source": [
        "#train the model using K NEAREST NEIGHBOURS algorithm with 10 fold cross validation\n",
        "from sklearn import neighbors\n",
        "n_neighbors = 5\n",
        "knn_clf = neighbors.KNeighborsClassifier(n_neighbors, weights='distance')\n",
        "print(\"The accuracies of the K NEAREST NEIGHBOURS algorithm trained against seismic_bumps_data are: \")\n",
        "print(cross_val_score(knn_clf, sb_train_set_prepared, sb_train_labels_prepared, cv=10, scoring = score_method))\n",
        "print(\"The accuracies of the K NEAREST NEIGHBOURS algorithm trained against labor_neg_data are: \")\n",
        "print(cross_val_score(knn_clf, ln_train_set_prepared, ln_train_labels_prepared, cv=10, scoring = score_method))\n",
        "print(\"The accuracies of the K NEAREST NEIGHBOURS algorithm trained against iris_data are: \")\n",
        "print(cross_val_score(knn_clf, ir_train_set_prepared, ir_train_labels_prepared, cv=10, scoring = score_method))\n",
        "print(\"The accuracies of the K NEAREST NEIGHBOURS algorithm trained against voting_data are: \")\n",
        "print(cross_val_score(knn_clf, vd_train_set_prepared, vd_train_labels_prepared, cv=10, scoring = score_method))"
      ],
      "execution_count": 64,
      "outputs": [
        {
          "output_type": "stream",
          "text": [
            "The accuracies of the K NEAREST NEIGHBOURS algorithm trained against seismic_bumps_data are: \n",
            "[0.89189189 0.8030888  0.87644788 0.93436293 0.93023256 0.91472868\n",
            " 0.93023256 0.93023256 0.93410853 0.9379845 ]\n",
            "The accuracies of the K NEAREST NEIGHBOURS algorithm trained against labor_neg_data are: \n",
            "[1.         0.83333333 1.         1.         1.         1.\n",
            " 1.         0.8        0.8        1.        ]\n",
            "The accuracies of the K NEAREST NEIGHBOURS algorithm trained against iris_data are: \n",
            "[1.         0.93333333 1.         0.93333333 0.86666667 0.93333333\n",
            " 0.86666667 1.         1.         1.        ]\n",
            "The accuracies of the K NEAREST NEIGHBOURS algorithm trained against voting_data are: \n",
            "[0.97727273 0.90909091 0.93181818 0.86363636 0.95454545 0.90909091\n",
            " 0.95454545 0.95348837 0.83333333 0.92857143]\n"
          ],
          "name": "stdout"
        }
      ]
    },
    {
      "cell_type": "code",
      "metadata": {
        "id": "OhlUCQrzjHqU",
        "colab_type": "code",
        "colab": {
          "base_uri": "https://localhost:8080/",
          "height": 228
        },
        "outputId": "a9318d9a-7ed5-4627-ac9c-386ce49082d0"
      },
      "source": [
        "#train the model using NAIVE BAYES algorithm with 10 fold cross validation\n",
        "from sklearn.naive_bayes import GaussianNB\n",
        "gnb_clf = GaussianNB()\n",
        "print(\"The accuracies of NAIVE BAYES algorithm trained against seismic_bumps_data are: \")\n",
        "print(cross_val_score(gnb_clf, sb_train_set_prepared, sb_train_labels_prepared, cv=10, scoring = score_method))\n",
        "print(\"The accuracies of NAIVE BAYES algorithm trained against labor_neg_data are: \")\n",
        "print(cross_val_score(gnb_clf, ln_train_set_prepared, ln_train_labels_prepared, cv=10, scoring = score_method))\n",
        "print(\"The accuracies of NAIVE BAYES algorithm trained against iris_data are: \")\n",
        "print(cross_val_score(gnb_clf, ir_train_set_prepared, ir_train_labels_prepared, cv=10, scoring = score_method))\n",
        "print(\"The accuracies of NAIVE BAYES algorithm trained against voting_data are: \")\n",
        "print(cross_val_score(gnb_clf, vd_train_set_prepared, vd_train_labels_prepared, cv=10, scoring = score_method))"
      ],
      "execution_count": 65,
      "outputs": [
        {
          "output_type": "stream",
          "text": [
            "The accuracies of NAIVE BAYES algorithm trained against seismic_bumps_data are: \n",
            "[0.48648649 0.31660232 0.31660232 0.85328185 0.39147287 0.25968992\n",
            " 0.07751938 0.36046512 0.4379845  0.3255814 ]\n",
            "The accuracies of NAIVE BAYES algorithm trained against labor_neg_data are: \n",
            "[1.         1.         1.         0.83333333 1.         1.\n",
            " 1.         0.8        0.6        1.        ]\n",
            "The accuracies of NAIVE BAYES algorithm trained against iris_data are: \n",
            "[0.93333333 0.93333333 1.         0.93333333 0.93333333 0.93333333\n",
            " 0.86666667 1.         1.         1.        ]\n",
            "The accuracies of NAIVE BAYES algorithm trained against voting_data are: \n",
            "[0.97727273 0.93181818 0.97727273 0.93181818 0.95454545 0.90909091\n",
            " 1.         1.         0.80952381 0.95238095]\n"
          ],
          "name": "stdout"
        }
      ]
    },
    {
      "cell_type": "code",
      "metadata": {
        "id": "p5MRRW6pjbOp",
        "colab_type": "code",
        "colab": {
          "base_uri": "https://localhost:8080/",
          "height": 228
        },
        "outputId": "e15146c5-fafd-4cfa-ac96-f09daef0a8c6"
      },
      "source": [
        "#train the model using RULE BASED algorithm with 10 fold cross validation\n",
        "from sklearn.dummy import DummyClassifier\n",
        "dc_clf = DummyClassifier(strategy='stratified')\n",
        "print(\"The accuracies of RULE BASED algorithm trained against seismic_bumps_data are: \")\n",
        "print(cross_val_score(dc_clf, sb_train_set_prepared, sb_train_labels_prepared, cv=10, scoring = score_method))\n",
        "print(\"The accuracies of RULE BASED algorithm trained against labor_neg_data are: \")\n",
        "print(cross_val_score(dc_clf, ln_train_set_prepared, ln_train_labels_prepared, cv=10, scoring = score_method))\n",
        "print(\"The accuracies of RULE BASED algorithm trained against iris_data are: \")\n",
        "print(cross_val_score(dc_clf, ir_train_set_prepared, ir_train_labels_prepared, cv=10, scoring = score_method))\n",
        "print(\"The accuracies of RULE BASED algorithm trained against voting_data are: \")\n",
        "print(cross_val_score(dc_clf, vd_train_set_prepared, vd_train_labels_prepared, cv=10, scoring = score_method))"
      ],
      "execution_count": 66,
      "outputs": [
        {
          "output_type": "stream",
          "text": [
            "The accuracies of RULE BASED algorithm trained against seismic_bumps_data are: \n",
            "[0.88416988 0.84169884 0.89189189 0.86486486 0.87596899 0.87209302\n",
            " 0.87209302 0.87984496 0.89534884 0.86046512]\n",
            "The accuracies of RULE BASED algorithm trained against labor_neg_data are: \n",
            "[0.33333333 0.33333333 0.33333333 0.33333333 0.5        0.66666667\n",
            " 0.5        0.4        0.4        0.4       ]\n",
            "The accuracies of RULE BASED algorithm trained against iris_data are: \n",
            "[0.33333333 0.33333333 0.46666667 0.33333333 0.33333333 0.33333333\n",
            " 0.33333333 0.33333333 0.33333333 0.46666667]\n",
            "The accuracies of RULE BASED algorithm trained against voting_data are: \n",
            "[0.52272727 0.56818182 0.56818182 0.56818182 0.43181818 0.56818182\n",
            " 0.43181818 0.39534884 0.4047619  0.45238095]\n"
          ],
          "name": "stdout"
        }
      ]
    },
    {
      "cell_type": "code",
      "metadata": {
        "id": "CvkHavqmj6I-",
        "colab_type": "code",
        "colab": {}
      },
      "source": [
        ""
      ],
      "execution_count": 0,
      "outputs": []
    }
  ]
}