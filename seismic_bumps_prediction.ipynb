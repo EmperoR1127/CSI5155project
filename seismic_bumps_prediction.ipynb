{
  "nbformat": 4,
  "nbformat_minor": 0,
  "metadata": {
    "colab": {
      "name": "seismic-bumps-prediction.ipynb",
      "provenance": [],
      "include_colab_link": true
    },
    "kernelspec": {
      "name": "python3",
      "display_name": "Python 3"
    }
  },
  "cells": [
    {
      "cell_type": "markdown",
      "metadata": {
        "id": "view-in-github",
        "colab_type": "text"
      },
      "source": [
        "<a href=\"https://colab.research.google.com/github/EmperoR1127/CSI5155_project/blob/master/seismic_bumps_prediction.ipynb\" target=\"_parent\"><img src=\"https://colab.research.google.com/assets/colab-badge.svg\" alt=\"Open In Colab\"/></a>"
      ]
    },
    {
      "cell_type": "code",
      "metadata": {
        "id": "hVReUimnwcbV",
        "colab_type": "code",
        "outputId": "f064577d-c92f-42d8-a825-e60b4afcc76c",
        "colab": {
          "base_uri": "https://localhost:8080/",
          "height": 125
        }
      },
      "source": [
        "from google.colab import drive\n",
        "drive.mount('/content/drive')"
      ],
      "execution_count": 1,
      "outputs": [
        {
          "output_type": "stream",
          "text": [
            "Go to this URL in a browser: https://accounts.google.com/o/oauth2/auth?client_id=947318989803-6bn6qk8qdgf4n4g3pfee6491hc0brc4i.apps.googleusercontent.com&redirect_uri=urn%3Aietf%3Awg%3Aoauth%3A2.0%3Aoob&scope=email%20https%3A%2F%2Fwww.googleapis.com%2Fauth%2Fdocs.test%20https%3A%2F%2Fwww.googleapis.com%2Fauth%2Fdrive%20https%3A%2F%2Fwww.googleapis.com%2Fauth%2Fdrive.photos.readonly%20https%3A%2F%2Fwww.googleapis.com%2Fauth%2Fpeopleapi.readonly&response_type=code\n",
            "\n",
            "Enter your authorization code:\n",
            "··········\n",
            "Mounted at /content/drive\n"
          ],
          "name": "stdout"
        }
      ]
    },
    {
      "cell_type": "code",
      "metadata": {
        "id": "XdE-dpTnwmCT",
        "colab_type": "code",
        "outputId": "b75188f1-6e14-4225-f45b-ec74e50cf16d",
        "colab": {
          "base_uri": "https://localhost:8080/",
          "height": 72
        }
      },
      "source": [
        "# To support both python 2 and python 3\n",
        "from __future__ import division, print_function, unicode_literals\n",
        "\n",
        "# Common imports\n",
        "import numpy as np\n",
        "import os\n",
        "from scipy.io import arff\n",
        "import pandas as pd\n",
        "\n",
        "# to make this notebook's output stable across runs\n",
        "np.random.seed(42)\n",
        "\n",
        "# To plot pretty figures\n",
        "%matplotlib inline\n",
        "import matplotlib as mpl\n",
        "import matplotlib.pyplot as plt\n",
        "mpl.rc('axes', labelsize=14)\n",
        "mpl.rc('xtick', labelsize=12)\n",
        "mpl.rc('ytick', labelsize=12)\n",
        "\n",
        "# Where to save the figures\n",
        "PROJECT_ROOT_DIR = \"/content/drive/My Drive/Images/\"\n",
        "\n",
        "def save_fig(fig_id, tight_layout=True):\n",
        "    path = os.path.join(PROJECT_ROOT_DIR, \"images\", fig_id + \".png\")\n",
        "    print(\"Saving figure\", fig_id)\n",
        "    if tight_layout:\n",
        "        plt.tight_layout()\n",
        "    plt.savefig(path, format='png', dpi=300)\n",
        "\n",
        "data = arff.loadarff('/content/drive/My Drive/Data/seismic-bumps.arff')\n",
        "seismic_bumps_data = pd.DataFrame(data[0])\n",
        "#pre-process the train_set\n",
        "train_labels = seismic_bumps_data[[\"class\"]].copy()\n",
        "train_set = seismic_bumps_data.drop([\"class\"], axis=1)\n",
        "train_labels[\"class\"] = train_labels[\"class\"].map(lambda x: str(x)[2])\n",
        "train_set_num = seismic_bumps_data.drop([\"seismic\",\"seismoacoustic\",\"shift\", \"ghazard\", \"class\"], axis=1)\n",
        "train_set_cat = seismic_bumps_data.drop([\"genergy\",\"gpuls\",\"gdenergy\", \"gdpuls\", \"nbumps\", \"nbumps2\", \"nbumps3\", \"nbumps4\", \"nbumps5\", \"nbumps6\", \"nbumps7\", \"nbumps89\", \"energy\", \"maxenergy\", \"class\"], axis=1)\n",
        "#build the pipeline\n",
        "from sklearn.pipeline import Pipeline\n",
        "from sklearn.impute import SimpleImputer\n",
        "from sklearn.preprocessing import StandardScaler\n",
        "from sklearn.compose import ColumnTransformer\n",
        "from sklearn.preprocessing import OneHotEncoder\n",
        "from sklearn.preprocessing import LabelEncoder\n",
        "num_pipeline = Pipeline([('imputer', SimpleImputer(strategy=\"median\")),('std_scaler', StandardScaler()),])\n",
        "full_pipeline = ColumnTransformer([(\"num\", num_pipeline, list(train_set_num)),(\"cat\", OneHotEncoder(), list(train_set_cat)),])\n",
        "#prepare the data\n",
        "train_set_prepared = full_pipeline.fit_transform(train_set)\n",
        "#prepare the target\n",
        "encoder = LabelEncoder()\n",
        "train_labels_prepared = encoder.fit_transform(train_labels)"
      ],
      "execution_count": 2,
      "outputs": [
        {
          "output_type": "stream",
          "text": [
            "/usr/local/lib/python3.6/dist-packages/sklearn/preprocessing/label.py:235: DataConversionWarning: A column-vector y was passed when a 1d array was expected. Please change the shape of y to (n_samples, ), for example using ravel().\n",
            "  y = column_or_1d(y, warn=True)\n"
          ],
          "name": "stderr"
        }
      ]
    },
    {
      "cell_type": "code",
      "metadata": {
        "id": "guxNrUGZxyr8",
        "colab_type": "code",
        "outputId": "27da84e5-df1c-4de7-a045-d7ec18908bd2",
        "colab": {
          "base_uri": "https://localhost:8080/",
          "height": 70
        }
      },
      "source": [
        "#rebalance the dataset using 3 different approaches\n",
        "from collections import Counter\n",
        "from imblearn.over_sampling import RandomOverSampler\n",
        "from imblearn.under_sampling import RepeatedEditedNearestNeighbours\n",
        "from imblearn.combine import SMOTEENN\n",
        "#rebalance the dataset using oversampling (random oversampling)\n",
        "ros = RandomOverSampler(random_state=42)\n",
        "ros_train_set_prepared, ros_train_labels_prepared = ros.fit_resample(train_set_prepared, train_labels_prepared)\n",
        "print(\"Class distribution of oversampling\" + str(sorted(Counter(ros_train_labels_prepared).items())))\n",
        "\n",
        "#rebalance the dataset using undersampling (nearest neightbours)\n",
        "renn = RepeatedEditedNearestNeighbours()\n",
        "renn_train_set_prepared, renn_train_labels_prepared = renn.fit_resample(train_set_prepared, train_labels_prepared)\n",
        "print(\"Class distribution of undersampling\" + str(sorted(Counter(renn_train_labels_prepared).items())))\n",
        "\n",
        "#rebalance the dataset using balanced sampling (SMOTEENN)\n",
        "smote_enn = SMOTEENN(random_state=0)\n",
        "smote_enn_train_set_prepared, smote_enn_train_labels_prepared = smote_enn.fit_resample(train_set_prepared, train_labels_prepared)\n",
        "print(\"Class distribution of balanced sampling\" + str(sorted(Counter(smote_enn_train_labels_prepared).items())))"
      ],
      "execution_count": 18,
      "outputs": [
        {
          "output_type": "stream",
          "text": [
            "Class distribution of oversampling[(0, 2414), (1, 2414)]\n",
            "Class distribution of undersampling[(0, 1920), (1, 170)]\n",
            "Class distribution of balanced sampling[(0, 1818), (1, 2194)]\n"
          ],
          "name": "stdout"
        }
      ]
    },
    {
      "cell_type": "code",
      "metadata": {
        "id": "WLRdeBMkDsmI",
        "colab_type": "code",
        "outputId": "bd41f9e5-08b4-4228-8c3a-ef3d0dc76199",
        "colab": {
          "base_uri": "https://localhost:8080/",
          "height": 158
        }
      },
      "source": [
        "#train the model using DECISION TREE algorithm with 10 fold cross validation\n",
        "from sklearn.tree import DecisionTreeClassifier\n",
        "from sklearn.model_selection import cross_val_predict\n",
        "from sklearn.metrics import precision_score, recall_score\n",
        "dt_clf = DecisionTreeClassifier()\n",
        "#train the model on the oversampling dataset\n",
        "dt_ros_train_prediction = cross_val_predict(dt_clf.fit(ros_train_set_prepared, ros_train_labels_prepared), ros_train_set_prepared, ros_train_labels_prepared, cv=10)\n",
        "#train the model on the undersampling dataset\n",
        "dt_renn_train_prediction = cross_val_predict(dt_clf.fit(renn_train_set_prepared, renn_train_labels_prepared), renn_train_set_prepared, renn_train_labels_prepared, cv=10)\n",
        "#train the model on the balanced sampling dataset\n",
        "dt_smote_enn_train_prediction = cross_val_predict(dt_clf.fit(smote_enn_train_set_prepared, smote_enn_train_labels_prepared), smote_enn_train_set_prepared, smote_enn_train_labels_prepared, cv=10)\n",
        "\n",
        "#calculate the presion and recall of oversampling dataset\n",
        "dt_ros_precision_score = precision_score(ros_train_labels_prepared, dt_ros_train_prediction)\n",
        "dt_ros_recall_score = recall_score(ros_train_labels_prepared, dt_ros_train_prediction)\n",
        "print(\"precision of decision tree model on oversampling dataset is + %f\" % dt_ros_precision_score)\n",
        "print(\"recall of decision tree model on oversampling dataset is + %f\" % dt_ros_recall_score)\n",
        "print(\"-----------------------------------------\")\n",
        "\n",
        "#calculate the presion and recall of undersampling dataset\n",
        "dt_renn_precision_score = precision_score(renn_train_labels_prepared, dt_renn_train_prediction)\n",
        "dt_renn_recall_score = recall_score(renn_train_labels_prepared, dt_renn_train_prediction)\n",
        "print(\"precision of decision tree model on undersampling dataset is + %f\" % dt_renn_precision_score)\n",
        "print(\"recall of decision tree model on undersampling dataset is + %f\" % dt_renn_recall_score)\n",
        "print(\"-----------------------------------------\")\n",
        "\n",
        "#calculate the presion and recall of balanced sampling dataset\n",
        "dt_smote_enn_precision_score = precision_score(smote_enn_train_labels_prepared, dt_smote_enn_train_prediction)\n",
        "dt_smote_enn_recall_score = recall_score(smote_enn_train_labels_prepared, dt_smote_enn_train_prediction)\n",
        "print(\"precision of decision tree model on balanced sampling dataset is + %f\" % dt_smote_enn_precision_score)\n",
        "print(\"recall of decision tree model on balanced sampling dataset is + %f\" % dt_smote_enn_recall_score)"
      ],
      "execution_count": 22,
      "outputs": [
        {
          "output_type": "stream",
          "text": [
            "precision of decision tree model on oversampling dataset is + 0.903781\n",
            "recall of decision tree model on oversampling dataset is + 1.000000\n",
            "-----------------------------------------\n",
            "precision of decision tree model on undersampling dataset is + 0.267490\n",
            "recall of decision tree model on undersampling dataset is + 0.382353\n",
            "-----------------------------------------\n",
            "precision of decision tree model on balanced sampling dataset is + 0.893926\n",
            "recall of decision tree model on balanced sampling dataset is + 0.952598\n"
          ],
          "name": "stdout"
        }
      ]
    },
    {
      "cell_type": "code",
      "metadata": {
        "id": "30Gplc2KE7io",
        "colab_type": "code",
        "colab": {
          "base_uri": "https://localhost:8080/",
          "height": 158
        },
        "outputId": "82c1425f-88f2-4e9f-b380-8103e61273e8"
      },
      "source": [
        "#train the model using K NEAREST NEIGHBOURS algorithm with 10 fold cross validation\n",
        "from sklearn import neighbors\n",
        "from sklearn.model_selection import cross_val_predict\n",
        "from sklearn.metrics import precision_score, recall_score\n",
        "n_neighbors = 10\n",
        "knn_clf = neighbors.KNeighborsClassifier(n_neighbors, weights='distance')\n",
        "#train the model on the oversampling dataset\n",
        "knn_ros_train_prediction = cross_val_predict(knn_clf.fit(ros_train_set_prepared, ros_train_labels_prepared), ros_train_set_prepared, ros_train_labels_prepared, cv=10)\n",
        "#train the model on the undersampling dataset\n",
        "knn_renn_train_prediction = cross_val_predict(knn_clf.fit(renn_train_set_prepared, renn_train_labels_prepared), renn_train_set_prepared, renn_train_labels_prepared, cv=10)\n",
        "#train the model on the balanced sampling dataset\n",
        "knn_smote_enn_train_prediction = cross_val_predict(knn_clf.fit(smote_enn_train_set_prepared, smote_enn_train_labels_prepared), smote_enn_train_set_prepared, smote_enn_train_labels_prepared, cv=10)\n",
        "\n",
        "#calculate the presion and recall of oversampling dataset\n",
        "knn_ros_precision_score = precision_score(ros_train_labels_prepared, knn_ros_train_prediction)\n",
        "knn_ros_recall_score = recall_score(ros_train_labels_prepared, knn_ros_train_prediction)\n",
        "print(\"precision of k-nearest neighbours model on oversampling dataset is + %f\" % knn_ros_precision_score)\n",
        "print(\"recall of k-nearest neighbours model on oversampling dataset is + %f\" % knn_ros_recall_score)\n",
        "print(\"-----------------------------------------\")\n",
        "\n",
        "#calculate the presion and recall of undersampling dataset\n",
        "knn_renn_precision_score = precision_score(renn_train_labels_prepared, knn_renn_train_prediction)\n",
        "knn_renn_recall_score = recall_score(renn_train_labels_prepared, knn_renn_train_prediction)\n",
        "print(\"precision of k-nearest neighbours model on undersampling dataset is + %f\" % knn_renn_precision_score)\n",
        "print(\"recall of k-nearest neighbours model on undersampling dataset is + %f\" % knn_renn_recall_score)\n",
        "print(\"-----------------------------------------\")\n",
        "\n",
        "#calculate the presion and recall of balanced sampling dataset\n",
        "knn_smote_enn_precision_score = precision_score(smote_enn_train_labels_prepared, knn_smote_enn_train_prediction)\n",
        "knn_smote_enn_recall_score = recall_score(smote_enn_train_labels_prepared, knn_smote_enn_train_prediction)\n",
        "print(\"precision of k-nearest neighbours model on balanced sampling dataset is + %f\" % knn_smote_enn_precision_score)\n",
        "print(\"recall of k-nearest neighbours model on balanced sampling dataset is + %f\" % knn_smote_enn_recall_score)"
      ],
      "execution_count": 24,
      "outputs": [
        {
          "output_type": "stream",
          "text": [
            "precision of k-nearest neighbours model on oversampling dataset is + 0.776955\n",
            "recall of k-nearest neighbours model on oversampling dataset is + 1.000000\n",
            "-----------------------------------------\n",
            "precision of k-nearest neighbours model on undersampling dataset is + 0.534091\n",
            "recall of k-nearest neighbours model on undersampling dataset is + 0.276471\n",
            "-----------------------------------------\n",
            "precision of k-nearest neighbours model on balanced sampling dataset is + 0.893399\n",
            "recall of k-nearest neighbours model on balanced sampling dataset is + 0.993163\n"
          ],
          "name": "stdout"
        }
      ]
    },
    {
      "cell_type": "code",
      "metadata": {
        "id": "5IHMKatVHDjv",
        "colab_type": "code",
        "colab": {
          "base_uri": "https://localhost:8080/",
          "height": 158
        },
        "outputId": "9d137482-29a2-4f0c-8625-c21774c9118a"
      },
      "source": [
        "#train the model using NAIVE BAYES algorithm with 10 fold cross validation\n",
        "from sklearn.naive_bayes import GaussianNB\n",
        "from sklearn.model_selection import cross_val_predict\n",
        "from sklearn.metrics import precision_score, recall_score\n",
        "gnb_clf = GaussianNB()\n",
        "#train the model on the oversampling dataset\n",
        "gnb_ros_train_prediction = cross_val_predict(gnb_clf.fit(ros_train_set_prepared, ros_train_labels_prepared), ros_train_set_prepared, ros_train_labels_prepared, cv=10)\n",
        "#train the model on the undersampling dataset\n",
        "gnb_renn_train_prediction = cross_val_predict(gnb_clf.fit(renn_train_set_prepared, renn_train_labels_prepared), renn_train_set_prepared, renn_train_labels_prepared, cv=10)\n",
        "#train the model on the balanced sampling dataset\n",
        "gnb_smote_enn_train_prediction = cross_val_predict(gnb_clf.fit(smote_enn_train_set_prepared, smote_enn_train_labels_prepared), smote_enn_train_set_prepared, smote_enn_train_labels_prepared, cv=10)\n",
        "\n",
        "#calculate the presion and recall of oversampling dataset\n",
        "gnb_ros_precision_score = precision_score(ros_train_labels_prepared, gnb_ros_train_prediction)\n",
        "gnb_ros_recall_score = recall_score(ros_train_labels_prepared, gnb_ros_train_prediction)\n",
        "print(\"precision of naive bayes model on oversampling dataset is + %f\" % gnb_ros_precision_score)\n",
        "print(\"recall of naive bayes model on oversampling dataset is + %f\" % gnb_ros_recall_score)\n",
        "print(\"-----------------------------------------\")\n",
        "\n",
        "#calculate the presion and recall of undersampling dataset\n",
        "gnb_renn_precision_score = precision_score(renn_train_labels_prepared, gnb_renn_train_prediction)\n",
        "gnb_renn_recall_score = recall_score(renn_train_labels_prepared, gnb_renn_train_prediction)\n",
        "print(\"precision of naive bayes model on undersampling dataset is + %f\" % gnb_renn_precision_score)\n",
        "print(\"recall of naive bayes model on undersampling dataset is + %f\" % gnb_renn_recall_score)\n",
        "print(\"-----------------------------------------\")\n",
        "\n",
        "#calculate the presion and recall of balanced sampling dataset\n",
        "gnb_smote_enn_precision_score = precision_score(smote_enn_train_labels_prepared, gnb_smote_enn_train_prediction)\n",
        "gnb_smote_enn_recall_score = recall_score(smote_enn_train_labels_prepared, gnb_smote_enn_train_prediction)\n",
        "print(\"precision of naive bayes model on balanced sampling dataset is + %f\" % gnb_smote_enn_precision_score)\n",
        "print(\"recall of naive bayes model on balanced sampling dataset is + %f\" % gnb_smote_enn_recall_score)"
      ],
      "execution_count": 25,
      "outputs": [
        {
          "output_type": "stream",
          "text": [
            "precision of naive bayes model on oversampling dataset is + 0.593566\n",
            "recall of naive bayes model on oversampling dataset is + 0.917150\n",
            "-----------------------------------------\n",
            "precision of naive bayes model on undersampling dataset is + 0.118022\n",
            "recall of naive bayes model on undersampling dataset is + 0.870588\n",
            "-----------------------------------------\n",
            "precision of naive bayes model on balanced sampling dataset is + 0.698139\n",
            "recall of naive bayes model on balanced sampling dataset is + 0.923428\n"
          ],
          "name": "stdout"
        }
      ]
    },
    {
      "cell_type": "code",
      "metadata": {
        "id": "T9D-IMODJCDR",
        "colab_type": "code",
        "colab": {
          "base_uri": "https://localhost:8080/",
          "height": 158
        },
        "outputId": "2f6c0058-bddc-4a4d-fe85-10e582f89ea6"
      },
      "source": [
        "#train the model using RULE BASED algorithm with 10 fold cross validation\n",
        "from sklearn.dummy import DummyClassifier\n",
        "from sklearn.model_selection import cross_val_predict\n",
        "from sklearn.metrics import precision_score, recall_score\n",
        "dc_clf = DummyClassifier(strategy='stratified')\n",
        "#train the model on the oversampling dataset\n",
        "dc_ros_train_prediction = cross_val_predict(dc_clf.fit(ros_train_set_prepared, ros_train_labels_prepared), ros_train_set_prepared, ros_train_labels_prepared, cv=10)\n",
        "#train the model on the undersampling dataset\n",
        "dc_renn_train_prediction = cross_val_predict(dc_clf.fit(renn_train_set_prepared, renn_train_labels_prepared), renn_train_set_prepared, renn_train_labels_prepared, cv=10)\n",
        "#train the model on the balanced sampling dataset\n",
        "dc_smote_enn_train_prediction = cross_val_predict(dc_clf.fit(smote_enn_train_set_prepared, smote_enn_train_labels_prepared), smote_enn_train_set_prepared, smote_enn_train_labels_prepared, cv=10)\n",
        "\n",
        "#calculate the presion and recall of oversampling dataset\n",
        "dc_ros_precision_score = precision_score(ros_train_labels_prepared, dc_ros_train_prediction)\n",
        "dc_ros_recall_score = recall_score(ros_train_labels_prepared, dc_ros_train_prediction)\n",
        "print(\"precision of rule based model on oversampling dataset is + %f\" % dc_ros_precision_score)\n",
        "print(\"recall of rule based model on oversampling dataset is + %f\" % dc_ros_recall_score)\n",
        "print(\"-----------------------------------------\")\n",
        "\n",
        "#calculate the presion and recall of undersampling dataset\n",
        "dc_renn_precision_score = precision_score(renn_train_labels_prepared, dc_renn_train_prediction)\n",
        "dc_renn_recall_score = recall_score(renn_train_labels_prepared, dc_renn_train_prediction)\n",
        "print(\"precision of rule based model on undersampling dataset is + %f\" % dc_renn_precision_score)\n",
        "print(\"recall of rule based model on undersampling dataset is + %f\" % dc_renn_recall_score)\n",
        "print(\"-----------------------------------------\")\n",
        "\n",
        "#calculate the presion and recall of balanced sampling dataset\n",
        "dc_smote_enn_precision_score = precision_score(smote_enn_train_labels_prepared, dc_smote_enn_train_prediction)\n",
        "dc_smote_enn_recall_score = recall_score(smote_enn_train_labels_prepared, dc_smote_enn_train_prediction)\n",
        "print(\"precision of rule based model on balanced sampling dataset is + %f\" % dc_smote_enn_precision_score)\n",
        "print(\"recall of rule based model on balanced sampling dataset is + %f\" % dc_smote_enn_recall_score)"
      ],
      "execution_count": 26,
      "outputs": [
        {
          "output_type": "stream",
          "text": [
            "precision of rule based model on oversampling dataset is + 0.500207\n",
            "recall of rule based model on oversampling dataset is + 0.500000\n",
            "-----------------------------------------\n",
            "precision of rule based model on undersampling dataset is + 0.071429\n",
            "recall of rule based model on undersampling dataset is + 0.076471\n",
            "-----------------------------------------\n",
            "precision of rule based model on balanced sampling dataset is + 0.542313\n",
            "recall of rule based model on balanced sampling dataset is + 0.557885\n"
          ],
          "name": "stdout"
        }
      ]
    },
    {
      "cell_type": "code",
      "metadata": {
        "id": "inuITYr9J5qk",
        "colab_type": "code",
        "colab": {}
      },
      "source": [
        ""
      ],
      "execution_count": 0,
      "outputs": []
    }
  ]
}