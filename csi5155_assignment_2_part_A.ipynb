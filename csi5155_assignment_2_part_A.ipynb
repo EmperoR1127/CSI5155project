{
  "nbformat": 4,
  "nbformat_minor": 0,
  "metadata": {
    "colab": {
      "name": "csi5155_assignment_2.ipynb",
      "provenance": [],
      "include_colab_link": true
    },
    "kernelspec": {
      "name": "python3",
      "display_name": "Python 3"
    }
  },
  "cells": [
    {
      "cell_type": "markdown",
      "metadata": {
        "id": "view-in-github",
        "colab_type": "text"
      },
      "source": [
        "<a href=\"https://colab.research.google.com/github/EmperoR1127/CSI5155_project/blob/master/csi5155_assignment_2.ipynb\" target=\"_parent\"><img src=\"https://colab.research.google.com/assets/colab-badge.svg\" alt=\"Open In Colab\"/></a>"
      ]
    },
    {
      "cell_type": "code",
      "metadata": {
        "id": "hVReUimnwcbV",
        "colab_type": "code",
        "outputId": "36f975c3-fec3-4593-e122-8de059839ef8",
        "colab": {
          "base_uri": "https://localhost:8080/",
          "height": 125
        }
      },
      "source": [
        "from google.colab import drive\n",
        "drive.mount('/content/drive')"
      ],
      "execution_count": 1,
      "outputs": [
        {
          "output_type": "stream",
          "text": [
            "Go to this URL in a browser: https://accounts.google.com/o/oauth2/auth?client_id=947318989803-6bn6qk8qdgf4n4g3pfee6491hc0brc4i.apps.googleusercontent.com&redirect_uri=urn%3Aietf%3Awg%3Aoauth%3A2.0%3Aoob&scope=email%20https%3A%2F%2Fwww.googleapis.com%2Fauth%2Fdocs.test%20https%3A%2F%2Fwww.googleapis.com%2Fauth%2Fdrive%20https%3A%2F%2Fwww.googleapis.com%2Fauth%2Fdrive.photos.readonly%20https%3A%2F%2Fwww.googleapis.com%2Fauth%2Fpeopleapi.readonly&response_type=code\n",
            "\n",
            "Enter your authorization code:\n",
            "··········\n",
            "Mounted at /content/drive\n"
          ],
          "name": "stdout"
        }
      ]
    },
    {
      "cell_type": "code",
      "metadata": {
        "id": "XdE-dpTnwmCT",
        "colab_type": "code",
        "outputId": "81c88c26-fceb-4324-ae5c-e7c7e800dc0a",
        "colab": {
          "base_uri": "https://localhost:8080/",
          "height": 72
        }
      },
      "source": [
        "# To support both python 2 and python 3\n",
        "from __future__ import division, print_function, unicode_literals\n",
        "\n",
        "# Common imports\n",
        "import numpy as np\n",
        "import os\n",
        "from scipy.io import arff\n",
        "import pandas as pd\n",
        "\n",
        "# to make this notebook's output stable across runs\n",
        "np.random.seed(42)\n",
        "\n",
        "# To plot pretty figures\n",
        "%matplotlib inline\n",
        "import matplotlib as mpl\n",
        "import matplotlib.pyplot as plt\n",
        "mpl.rc('axes', labelsize=14)\n",
        "mpl.rc('xtick', labelsize=12)\n",
        "mpl.rc('ytick', labelsize=12)\n",
        "\n",
        "# Where to save the figures\n",
        "PROJECT_ROOT_DIR = \"/content/drive/My Drive/Images/\"\n",
        "\n",
        "def save_fig(fig_id, tight_layout=True):\n",
        "    path = os.path.join(PROJECT_ROOT_DIR, \"images\", fig_id + \".png\")\n",
        "    print(\"Saving figure\", fig_id)\n",
        "    if tight_layout:\n",
        "        plt.tight_layout()\n",
        "    plt.savefig(path, format='png', dpi=300)\n",
        "\n",
        "data = arff.loadarff('/content/drive/My Drive/Data/seismic-bumps.arff')\n",
        "seismic_bumps_data = pd.DataFrame(data[0])\n",
        "#pre-process the train_set\n",
        "train_labels = seismic_bumps_data[[\"class\"]].copy()\n",
        "train_set = seismic_bumps_data.drop([\"class\"], axis=1)\n",
        "train_labels[\"class\"] = train_labels[\"class\"].map(lambda x: str(x)[2])\n",
        "train_set_num = seismic_bumps_data.drop([\"seismic\",\"seismoacoustic\",\"shift\", \"ghazard\", \"class\"], axis=1)\n",
        "train_set_cat = seismic_bumps_data.drop([\"genergy\",\"gpuls\",\"gdenergy\", \"gdpuls\", \"nbumps\", \"nbumps2\", \"nbumps3\", \"nbumps4\", \"nbumps5\", \"nbumps6\", \"nbumps7\", \"nbumps89\", \"energy\", \"maxenergy\", \"class\"], axis=1)\n",
        "#build the pipeline\n",
        "from sklearn.pipeline import Pipeline\n",
        "from sklearn.impute import SimpleImputer\n",
        "from sklearn.preprocessing import StandardScaler\n",
        "from sklearn.compose import ColumnTransformer\n",
        "from sklearn.preprocessing import OneHotEncoder\n",
        "from sklearn.preprocessing import LabelEncoder\n",
        "num_pipeline = Pipeline([('imputer', SimpleImputer(strategy=\"median\")),('std_scaler', StandardScaler()),])\n",
        "full_pipeline = ColumnTransformer([(\"num\", num_pipeline, list(train_set_num)),(\"cat\", OneHotEncoder(), list(train_set_cat)),])\n",
        "#prepare the data\n",
        "train_set_prepared = full_pipeline.fit_transform(train_set)\n",
        "#prepare the target\n",
        "encoder = LabelEncoder()\n",
        "train_labels_prepared = encoder.fit_transform(train_labels)"
      ],
      "execution_count": 2,
      "outputs": [
        {
          "output_type": "stream",
          "text": [
            "/usr/local/lib/python3.6/dist-packages/sklearn/preprocessing/label.py:235: DataConversionWarning: A column-vector y was passed when a 1d array was expected. Please change the shape of y to (n_samples, ), for example using ravel().\n",
            "  y = column_or_1d(y, warn=True)\n"
          ],
          "name": "stderr"
        }
      ]
    },
    {
      "cell_type": "code",
      "metadata": {
        "id": "guxNrUGZxyr8",
        "colab_type": "code",
        "outputId": "9a790b38-1ab6-4b7a-e73d-4b31c5a1458c",
        "colab": {
          "base_uri": "https://localhost:8080/",
          "height": 125
        }
      },
      "source": [
        "#rebalance the dataset using 3 different approaches\n",
        "from collections import Counter\n",
        "from imblearn.over_sampling import RandomOverSampler\n",
        "from imblearn.under_sampling import RepeatedEditedNearestNeighbours\n",
        "from imblearn.combine import SMOTEENN\n",
        "#rebalance the dataset using oversampling (random oversampling)\n",
        "ros = RandomOverSampler(random_state=42)\n",
        "ros_train_set_prepared, ros_train_labels_prepared = ros.fit_resample(train_set_prepared, train_labels_prepared)\n",
        "print(\"Class distribution of oversampling\" + str(sorted(Counter(ros_train_labels_prepared).items())))\n",
        "\n",
        "#rebalance the dataset using undersampling (nearest neightbours)\n",
        "renn = RepeatedEditedNearestNeighbours()\n",
        "renn_train_set_prepared, renn_train_labels_prepared = renn.fit_resample(train_set_prepared, train_labels_prepared)\n",
        "print(\"Class distribution of undersampling\" + str(sorted(Counter(renn_train_labels_prepared).items())))\n",
        "\n",
        "#rebalance the dataset using balanced sampling (SMOTEENN)\n",
        "smote_enn = SMOTEENN(random_state=0)\n",
        "smote_enn_train_set_prepared, smote_enn_train_labels_prepared = smote_enn.fit_resample(train_set_prepared, train_labels_prepared)\n",
        "print(\"Class distribution of balanced sampling\" + str(sorted(Counter(smote_enn_train_labels_prepared).items())))"
      ],
      "execution_count": 3,
      "outputs": [
        {
          "output_type": "stream",
          "text": [
            "/usr/local/lib/python3.6/dist-packages/sklearn/externals/six.py:31: DeprecationWarning: The module is deprecated in version 0.21 and will be removed in version 0.23 since we've dropped support for Python 2.7. Please rely on the official version of six (https://pypi.org/project/six/).\n",
            "  \"(https://pypi.org/project/six/).\", DeprecationWarning)\n"
          ],
          "name": "stderr"
        },
        {
          "output_type": "stream",
          "text": [
            "Class distribution of oversampling[(0, 2414), (1, 2414)]\n",
            "Class distribution of undersampling[(0, 1920), (1, 170)]\n",
            "Class distribution of balanced sampling[(0, 1818), (1, 2194)]\n"
          ],
          "name": "stdout"
        }
      ]
    },
    {
      "cell_type": "code",
      "metadata": {
        "id": "WLRdeBMkDsmI",
        "colab_type": "code",
        "outputId": "b8a3e112-16a5-466c-e932-7ed461421c28",
        "colab": {
          "base_uri": "https://localhost:8080/",
          "height": 158
        }
      },
      "source": [
        "#train the model using DECISION TREE algorithm with 10 fold cross validation\n",
        "from sklearn.tree import DecisionTreeClassifier\n",
        "from sklearn.model_selection import cross_val_predict\n",
        "from sklearn.metrics import precision_score, recall_score\n",
        "dt_clf = DecisionTreeClassifier()\n",
        "#train the model on the oversampling dataset\n",
        "dt_ros_train_prediction = cross_val_predict(dt_clf.fit(ros_train_set_prepared, ros_train_labels_prepared), ros_train_set_prepared, ros_train_labels_prepared, cv=10)\n",
        "#train the model on the undersampling dataset\n",
        "dt_renn_train_prediction = cross_val_predict(dt_clf.fit(renn_train_set_prepared, renn_train_labels_prepared), renn_train_set_prepared, renn_train_labels_prepared, cv=10)\n",
        "#train the model on the balanced sampling dataset\n",
        "dt_smote_enn_train_prediction = cross_val_predict(dt_clf.fit(smote_enn_train_set_prepared, smote_enn_train_labels_prepared), smote_enn_train_set_prepared, smote_enn_train_labels_prepared, cv=10)\n",
        "\n",
        "#calculate the presion and recall of oversampling dataset\n",
        "dt_ros_precision_score = precision_score(ros_train_labels_prepared, dt_ros_train_prediction)\n",
        "dt_ros_recall_score = recall_score(ros_train_labels_prepared, dt_ros_train_prediction)\n",
        "print(\"precision of decision tree model on oversampling dataset is + %f\" % dt_ros_precision_score)\n",
        "print(\"recall of decision tree model on oversampling dataset is + %f\" % dt_ros_recall_score)\n",
        "print(\"-----------------------------------------\")\n",
        "\n",
        "#calculate the presion and recall of undersampling dataset\n",
        "dt_renn_precision_score = precision_score(renn_train_labels_prepared, dt_renn_train_prediction)\n",
        "dt_renn_recall_score = recall_score(renn_train_labels_prepared, dt_renn_train_prediction)\n",
        "print(\"precision of decision tree model on undersampling dataset is + %f\" % dt_renn_precision_score)\n",
        "print(\"recall of decision tree model on undersampling dataset is + %f\" % dt_renn_recall_score)\n",
        "print(\"-----------------------------------------\")\n",
        "\n",
        "#calculate the presion and recall of balanced sampling dataset\n",
        "dt_smote_enn_precision_score = precision_score(smote_enn_train_labels_prepared, dt_smote_enn_train_prediction)\n",
        "dt_smote_enn_recall_score = recall_score(smote_enn_train_labels_prepared, dt_smote_enn_train_prediction)\n",
        "print(\"precision of decision tree model on balanced sampling dataset is + %f\" % dt_smote_enn_precision_score)\n",
        "print(\"recall of decision tree model on balanced sampling dataset is + %f\" % dt_smote_enn_recall_score)"
      ],
      "execution_count": 4,
      "outputs": [
        {
          "output_type": "stream",
          "text": [
            "precision of decision tree model on oversampling dataset is + 0.902430\n",
            "recall of decision tree model on oversampling dataset is + 1.000000\n",
            "-----------------------------------------\n",
            "precision of decision tree model on undersampling dataset is + 0.267206\n",
            "recall of decision tree model on undersampling dataset is + 0.388235\n",
            "-----------------------------------------\n",
            "precision of decision tree model on balanced sampling dataset is + 0.903588\n",
            "recall of decision tree model on balanced sampling dataset is + 0.952598\n"
          ],
          "name": "stdout"
        }
      ]
    },
    {
      "cell_type": "code",
      "metadata": {
        "id": "30Gplc2KE7io",
        "colab_type": "code",
        "outputId": "8b698666-9a84-45f3-a946-da1b5ede9bdb",
        "colab": {
          "base_uri": "https://localhost:8080/",
          "height": 158
        }
      },
      "source": [
        "#train the model using K NEAREST NEIGHBOURS algorithm with 10 fold cross validation\n",
        "from sklearn import neighbors\n",
        "from sklearn.model_selection import cross_val_predict\n",
        "from sklearn.metrics import precision_score, recall_score\n",
        "n_neighbors = 10\n",
        "knn_clf = neighbors.KNeighborsClassifier(n_neighbors, weights='distance')\n",
        "#train the model on the oversampling dataset\n",
        "knn_ros_train_prediction = cross_val_predict(knn_clf.fit(ros_train_set_prepared, ros_train_labels_prepared), ros_train_set_prepared, ros_train_labels_prepared, cv=10)\n",
        "#train the model on the undersampling dataset\n",
        "knn_renn_train_prediction = cross_val_predict(knn_clf.fit(renn_train_set_prepared, renn_train_labels_prepared), renn_train_set_prepared, renn_train_labels_prepared, cv=10)\n",
        "#train the model on the balanced sampling dataset\n",
        "knn_smote_enn_train_prediction = cross_val_predict(knn_clf.fit(smote_enn_train_set_prepared, smote_enn_train_labels_prepared), smote_enn_train_set_prepared, smote_enn_train_labels_prepared, cv=10)\n",
        "\n",
        "#calculate the presion and recall of oversampling dataset\n",
        "knn_ros_precision_score = precision_score(ros_train_labels_prepared, knn_ros_train_prediction)\n",
        "knn_ros_recall_score = recall_score(ros_train_labels_prepared, knn_ros_train_prediction)\n",
        "print(\"precision of k-nearest neighbours model on oversampling dataset is + %f\" % knn_ros_precision_score)\n",
        "print(\"recall of k-nearest neighbours model on oversampling dataset is + %f\" % knn_ros_recall_score)\n",
        "print(\"-----------------------------------------\")\n",
        "\n",
        "#calculate the presion and recall of undersampling dataset\n",
        "knn_renn_precision_score = precision_score(renn_train_labels_prepared, knn_renn_train_prediction)\n",
        "knn_renn_recall_score = recall_score(renn_train_labels_prepared, knn_renn_train_prediction)\n",
        "print(\"precision of k-nearest neighbours model on undersampling dataset is + %f\" % knn_renn_precision_score)\n",
        "print(\"recall of k-nearest neighbours model on undersampling dataset is + %f\" % knn_renn_recall_score)\n",
        "print(\"-----------------------------------------\")\n",
        "\n",
        "#calculate the presion and recall of balanced sampling dataset\n",
        "knn_smote_enn_precision_score = precision_score(smote_enn_train_labels_prepared, knn_smote_enn_train_prediction)\n",
        "knn_smote_enn_recall_score = recall_score(smote_enn_train_labels_prepared, knn_smote_enn_train_prediction)\n",
        "print(\"precision of k-nearest neighbours model on balanced sampling dataset is + %f\" % knn_smote_enn_precision_score)\n",
        "print(\"recall of k-nearest neighbours model on balanced sampling dataset is + %f\" % knn_smote_enn_recall_score)"
      ],
      "execution_count": 5,
      "outputs": [
        {
          "output_type": "stream",
          "text": [
            "precision of k-nearest neighbours model on oversampling dataset is + 0.776955\n",
            "recall of k-nearest neighbours model on oversampling dataset is + 1.000000\n",
            "-----------------------------------------\n",
            "precision of k-nearest neighbours model on undersampling dataset is + 0.534091\n",
            "recall of k-nearest neighbours model on undersampling dataset is + 0.276471\n",
            "-----------------------------------------\n",
            "precision of k-nearest neighbours model on balanced sampling dataset is + 0.893399\n",
            "recall of k-nearest neighbours model on balanced sampling dataset is + 0.993163\n"
          ],
          "name": "stdout"
        }
      ]
    },
    {
      "cell_type": "code",
      "metadata": {
        "id": "5IHMKatVHDjv",
        "colab_type": "code",
        "outputId": "bfb1d0f0-d2fe-448b-f0c0-092bf1b0cce7",
        "colab": {
          "base_uri": "https://localhost:8080/",
          "height": 158
        }
      },
      "source": [
        "#train the model using NAIVE BAYES algorithm with 10 fold cross validation\n",
        "from sklearn.naive_bayes import GaussianNB\n",
        "from sklearn.model_selection import cross_val_predict\n",
        "from sklearn.metrics import precision_score, recall_score\n",
        "gnb_clf = GaussianNB()\n",
        "#train the model on the oversampling dataset\n",
        "gnb_ros_train_prediction = cross_val_predict(gnb_clf.fit(ros_train_set_prepared, ros_train_labels_prepared), ros_train_set_prepared, ros_train_labels_prepared, cv=10)\n",
        "#train the model on the undersampling dataset\n",
        "gnb_renn_train_prediction = cross_val_predict(gnb_clf.fit(renn_train_set_prepared, renn_train_labels_prepared), renn_train_set_prepared, renn_train_labels_prepared, cv=10)\n",
        "#train the model on the balanced sampling dataset\n",
        "gnb_smote_enn_train_prediction = cross_val_predict(gnb_clf.fit(smote_enn_train_set_prepared, smote_enn_train_labels_prepared), smote_enn_train_set_prepared, smote_enn_train_labels_prepared, cv=10)\n",
        "\n",
        "#calculate the presion and recall of oversampling dataset\n",
        "gnb_ros_precision_score = precision_score(ros_train_labels_prepared, gnb_ros_train_prediction)\n",
        "gnb_ros_recall_score = recall_score(ros_train_labels_prepared, gnb_ros_train_prediction)\n",
        "print(\"precision of naive bayes model on oversampling dataset is + %f\" % gnb_ros_precision_score)\n",
        "print(\"recall of naive bayes model on oversampling dataset is + %f\" % gnb_ros_recall_score)\n",
        "print(\"-----------------------------------------\")\n",
        "\n",
        "#calculate the presion and recall of undersampling dataset\n",
        "gnb_renn_precision_score = precision_score(renn_train_labels_prepared, gnb_renn_train_prediction)\n",
        "gnb_renn_recall_score = recall_score(renn_train_labels_prepared, gnb_renn_train_prediction)\n",
        "print(\"precision of naive bayes model on undersampling dataset is + %f\" % gnb_renn_precision_score)\n",
        "print(\"recall of naive bayes model on undersampling dataset is + %f\" % gnb_renn_recall_score)\n",
        "print(\"-----------------------------------------\")\n",
        "\n",
        "#calculate the presion and recall of balanced sampling dataset\n",
        "gnb_smote_enn_precision_score = precision_score(smote_enn_train_labels_prepared, gnb_smote_enn_train_prediction)\n",
        "gnb_smote_enn_recall_score = recall_score(smote_enn_train_labels_prepared, gnb_smote_enn_train_prediction)\n",
        "print(\"precision of naive bayes model on balanced sampling dataset is + %f\" % gnb_smote_enn_precision_score)\n",
        "print(\"recall of naive bayes model on balanced sampling dataset is + %f\" % gnb_smote_enn_recall_score)"
      ],
      "execution_count": 6,
      "outputs": [
        {
          "output_type": "stream",
          "text": [
            "precision of naive bayes model on oversampling dataset is + 0.593566\n",
            "recall of naive bayes model on oversampling dataset is + 0.917150\n",
            "-----------------------------------------\n",
            "precision of naive bayes model on undersampling dataset is + 0.118022\n",
            "recall of naive bayes model on undersampling dataset is + 0.870588\n",
            "-----------------------------------------\n",
            "precision of naive bayes model on balanced sampling dataset is + 0.698139\n",
            "recall of naive bayes model on balanced sampling dataset is + 0.923428\n"
          ],
          "name": "stdout"
        }
      ]
    },
    {
      "cell_type": "code",
      "metadata": {
        "id": "T9D-IMODJCDR",
        "colab_type": "code",
        "outputId": "8b2ea3ed-c4d2-45c1-d667-265df68eb751",
        "colab": {
          "base_uri": "https://localhost:8080/",
          "height": 158
        }
      },
      "source": [
        "#train the model using RULE BASED algorithm with 10 fold cross validation\n",
        "from sklearn.dummy import DummyClassifier\n",
        "from sklearn.model_selection import cross_val_predict\n",
        "from sklearn.metrics import precision_score, recall_score\n",
        "dc_clf = DummyClassifier(strategy='stratified')\n",
        "#train the model on the oversampling dataset\n",
        "dc_ros_train_prediction = cross_val_predict(dc_clf.fit(ros_train_set_prepared, ros_train_labels_prepared), ros_train_set_prepared, ros_train_labels_prepared, cv=10)\n",
        "#train the model on the undersampling dataset\n",
        "dc_renn_train_prediction = cross_val_predict(dc_clf.fit(renn_train_set_prepared, renn_train_labels_prepared), renn_train_set_prepared, renn_train_labels_prepared, cv=10)\n",
        "#train the model on the balanced sampling dataset\n",
        "dc_smote_enn_train_prediction = cross_val_predict(dc_clf.fit(smote_enn_train_set_prepared, smote_enn_train_labels_prepared), smote_enn_train_set_prepared, smote_enn_train_labels_prepared, cv=10)\n",
        "\n",
        "#calculate the presion and recall of oversampling dataset\n",
        "dc_ros_precision_score = precision_score(ros_train_labels_prepared, dc_ros_train_prediction)\n",
        "dc_ros_recall_score = recall_score(ros_train_labels_prepared, dc_ros_train_prediction)\n",
        "print(\"precision of rule based model on oversampling dataset is + %f\" % dc_ros_precision_score)\n",
        "print(\"recall of rule based model on oversampling dataset is + %f\" % dc_ros_recall_score)\n",
        "print(\"-----------------------------------------\")\n",
        "\n",
        "#calculate the presion and recall of undersampling dataset\n",
        "dc_renn_precision_score = precision_score(renn_train_labels_prepared, dc_renn_train_prediction)\n",
        "dc_renn_recall_score = recall_score(renn_train_labels_prepared, dc_renn_train_prediction)\n",
        "print(\"precision of rule based model on undersampling dataset is + %f\" % dc_renn_precision_score)\n",
        "print(\"recall of rule based model on undersampling dataset is + %f\" % dc_renn_recall_score)\n",
        "print(\"-----------------------------------------\")\n",
        "\n",
        "#calculate the presion and recall of balanced sampling dataset\n",
        "dc_smote_enn_precision_score = precision_score(smote_enn_train_labels_prepared, dc_smote_enn_train_prediction)\n",
        "dc_smote_enn_recall_score = recall_score(smote_enn_train_labels_prepared, dc_smote_enn_train_prediction)\n",
        "print(\"precision of rule based model on balanced sampling dataset is + %f\" % dc_smote_enn_precision_score)\n",
        "print(\"recall of rule based model on balanced sampling dataset is + %f\" % dc_smote_enn_recall_score)"
      ],
      "execution_count": 7,
      "outputs": [
        {
          "output_type": "stream",
          "text": [
            "precision of rule based model on oversampling dataset is + 0.500840\n",
            "recall of rule based model on oversampling dataset is + 0.494200\n",
            "-----------------------------------------\n",
            "precision of rule based model on undersampling dataset is + 0.066225\n",
            "recall of rule based model on undersampling dataset is + 0.058824\n",
            "-----------------------------------------\n",
            "precision of rule based model on balanced sampling dataset is + 0.546373\n",
            "recall of rule based model on balanced sampling dataset is + 0.542388\n"
          ],
          "name": "stdout"
        }
      ]
    },
    {
      "cell_type": "code",
      "metadata": {
        "id": "inuITYr9J5qk",
        "colab_type": "code",
        "colab": {
          "base_uri": "https://localhost:8080/",
          "height": 70
        },
        "outputId": "fcf4a90f-a267-44b4-b56b-65d41f415971"
      },
      "source": [
        "#the accuracies of the DECISION TREE model against each one of the ten folds when trained against the balanced sampling technique\n",
        "from sklearn.metrics import make_scorer\n",
        "from sklearn.metrics import accuracy_score\n",
        "from sklearn.model_selection import cross_val_score\n",
        "score_method = make_scorer(accuracy_score)\n",
        "print(\"The accuracies of the DECISION TREE model trained against the balanced sampling dataset is: \")\n",
        "print(cross_val_score(dt_clf, smote_enn_train_set_prepared, smote_enn_train_labels_prepared, cv=10, scoring = score_method))"
      ],
      "execution_count": 11,
      "outputs": [
        {
          "output_type": "stream",
          "text": [
            "The accuracies of the DECISION TREE model trained against the balanced sampling dataset is: \n",
            "[0.79353234 0.85074627 0.89303483 0.92288557 0.94264339 0.9276808\n",
            " 0.94763092 0.91770574 0.95       0.945     ]\n"
          ],
          "name": "stdout"
        }
      ]
    },
    {
      "cell_type": "code",
      "metadata": {
        "id": "Shy_bK03QGDb",
        "colab_type": "code",
        "colab": {
          "base_uri": "https://localhost:8080/",
          "height": 70
        },
        "outputId": "635de233-23a9-47de-b6dd-8094fddf64b7"
      },
      "source": [
        "#the accuracies of the K NEAREST NEIGHBOURS model against each one of the ten folds when trained against the balanced sampling technique\n",
        "print(\"The accuracies of the K NEAREST NEIGHBOURS model trained against the balanced sampling dataset is: \")\n",
        "print(cross_val_score(knn_clf, smote_enn_train_set_prepared, smote_enn_train_labels_prepared, cv=10, scoring = score_method))"
      ],
      "execution_count": 12,
      "outputs": [
        {
          "output_type": "stream",
          "text": [
            "The accuracies of the K NEAREST NEIGHBOURS model trained against the balanced sampling dataset is: \n",
            "[0.87064677 0.87064677 0.93283582 0.97761194 0.94014963 0.9276808\n",
            " 0.97256858 0.93266833 0.9275     0.9625    ]\n"
          ],
          "name": "stdout"
        }
      ]
    },
    {
      "cell_type": "code",
      "metadata": {
        "id": "738K_fErgMko",
        "colab_type": "code",
        "colab": {
          "base_uri": "https://localhost:8080/",
          "height": 70
        },
        "outputId": "d0c6d6ee-56ff-4585-ee84-63101202555b"
      },
      "source": [
        "#the accuracies of the NAIVE BAYES model against each one of the ten folds when trained against the balanced sampling technique\n",
        "print(\"The accuracies of the NAIVE BAYES model trained against the balanced sampling dataset is: \")\n",
        "print(cross_val_score(gnb_clf, smote_enn_train_set_prepared, smote_enn_train_labels_prepared, cv=10, scoring = score_method))"
      ],
      "execution_count": 13,
      "outputs": [
        {
          "output_type": "stream",
          "text": [
            "The accuracies of the NAIVE BAYES model trained against the balanced sampling dataset is: \n",
            "[0.75621891 0.71890547 0.79353234 0.87562189 0.71820449 0.73566085\n",
            " 0.73566085 0.70573566 0.68       0.6775    ]\n"
          ],
          "name": "stdout"
        }
      ]
    },
    {
      "cell_type": "code",
      "metadata": {
        "id": "pmaAkRqegVDY",
        "colab_type": "code",
        "colab": {
          "base_uri": "https://localhost:8080/",
          "height": 70
        },
        "outputId": "b05f5d3b-11a8-4b53-bf72-7824996a28a8"
      },
      "source": [
        "#the accuracies of the RULE BASED  model against each one of the ten folds when trained against the balanced sampling technique\n",
        "print(\"The accuracies of the RULE BASED  model trained against the balanced sampling dataset is: \")\n",
        "print(cross_val_score(dc_clf, smote_enn_train_set_prepared, smote_enn_train_labels_prepared, cv=10, scoring = score_method))"
      ],
      "execution_count": 14,
      "outputs": [
        {
          "output_type": "stream",
          "text": [
            "The accuracies of the RULE BASED  model trained against the balanced sampling dataset is: \n",
            "[0.5        0.51741294 0.53731343 0.52487562 0.49625935 0.51620948\n",
            " 0.51122195 0.50124688 0.52       0.495     ]\n"
          ],
          "name": "stdout"
        }
      ]
    },
    {
      "cell_type": "code",
      "metadata": {
        "id": "GX6ftNbigkIF",
        "colab_type": "code",
        "colab": {
          "base_uri": "https://localhost:8080/",
          "height": 52
        },
        "outputId": "6f8fc371-d4d8-48d9-917f-ca2e5e04980c"
      },
      "source": [
        "#apply two different feature selection techniques to the balanced sampling dataset\n",
        "from sklearn.ensemble import ExtraTreesClassifier\n",
        "from sklearn.feature_selection import SelectFromModel\n",
        "from sklearn.svm import LinearSVC\n",
        "#tree-based feature selection\n",
        "clf = ExtraTreesClassifier(n_estimators=50)\n",
        "clf = clf.fit(smote_enn_train_set_prepared, smote_enn_train_labels_prepared)\n",
        "tb_model = SelectFromModel(clf, prefit=True)\n",
        "tb_smote_enn_train_set_prepared = tb_model.transform(smote_enn_train_set_prepared)\n",
        "print(\"Dataset with \" + str(smote_enn_train_set_prepared.shape[1]) + \" features is reduced to \" + str(tb_smote_enn_train_set_prepared.shape[1])\n",
        "      + \" features after applying tree based feature selection technique\")\n",
        "\n",
        "#L1-based feature selection\n",
        "lsvc = LinearSVC(C=0.01, penalty=\"l1\", dual=False).fit(smote_enn_train_set_prepared, smote_enn_train_labels_prepared)\n",
        "l_model = SelectFromModel(lsvc, prefit=True)\n",
        "l_smote_enn_train_set_prepared = l_model.transform(smote_enn_train_set_prepared)\n",
        "print(\"Dataset with \" + str(smote_enn_train_set_prepared.shape[1]) + \" features is reduced to \" + str(l_smote_enn_train_set_prepared.shape[1])\n",
        "      + \" features after applying L1-based feature selection technique\")"
      ],
      "execution_count": 30,
      "outputs": [
        {
          "output_type": "stream",
          "text": [
            "Dataset with 24 features is reduced to 9 features after applying tree based feature selection technique\n",
            "Dataset with 24 features is reduced to 8 features after applying L1-based feature selection technique\n"
          ],
          "name": "stdout"
        }
      ]
    },
    {
      "cell_type": "code",
      "metadata": {
        "id": "lM-rCncOh7fR",
        "colab_type": "code",
        "colab": {
          "base_uri": "https://localhost:8080/",
          "height": 122
        },
        "outputId": "f3644c05-f1cd-44df-b462-5f60303716c3"
      },
      "source": [
        "#the accuracies of the DECISION TREE model trained with balanced sampling dataset applying 2 feature selection technique\n",
        "from sklearn.metrics import make_scorer\n",
        "from sklearn.metrics import accuracy_score\n",
        "from sklearn.model_selection import cross_val_score\n",
        "score_method = make_scorer(accuracy_score)\n",
        "print(\"The accuracies of the DECISION TREE model (balanced sampling + tree based feature selection) is: \")\n",
        "print(cross_val_score(dt_clf, tb_smote_enn_train_set_prepared, smote_enn_train_labels_prepared, cv=10, scoring = score_method))\n",
        "print(\"The accuracies of the DECISION TREE model (balanced sampling + L1 based feature selection) is: \")\n",
        "print(cross_val_score(dt_clf, l_smote_enn_train_set_prepared, smote_enn_train_labels_prepared, cv=10, scoring = score_method))"
      ],
      "execution_count": 32,
      "outputs": [
        {
          "output_type": "stream",
          "text": [
            "The accuracies of the DECISION TREE model (balanced sampling + tree based feature selection) is: \n",
            "[0.8681592  0.8159204  0.85820896 0.95522388 0.9276808  0.92269327\n",
            " 0.94513716 0.88528678 0.9025     0.93      ]\n",
            "The accuracies of the DECISION TREE model (balanced sampling + L1 based feature selection) is: \n",
            "[0.8159204  0.81840796 0.89054726 0.96268657 0.93017456 0.91521197\n",
            " 0.93017456 0.89775561 0.935      0.925     ]\n"
          ],
          "name": "stdout"
        }
      ]
    },
    {
      "cell_type": "code",
      "metadata": {
        "id": "Zq506B5xmirb",
        "colab_type": "code",
        "colab": {
          "base_uri": "https://localhost:8080/",
          "height": 122
        },
        "outputId": "186e23ba-87fe-4b48-bd50-d3bc0220a738"
      },
      "source": [
        "#the accuracies of the K NEAREST NEIGHBOURS model with balanced sampling dataset applying 2 feature selection technique\n",
        "print(\"The accuracies of the K NEAREST NEIGHBOURS model (balanced sampling + tree based feature selection) is: \")\n",
        "print(cross_val_score(knn_clf, tb_smote_enn_train_set_prepared, smote_enn_train_labels_prepared, cv=10, scoring = score_method))\n",
        "print(\"The accuracies of the K NEAREST NEIGHBOURS model (balanced sampling + L1 based feature selection) is: \")\n",
        "print(cross_val_score(knn_clf, l_smote_enn_train_set_prepared, smote_enn_train_labels_prepared, cv=10, scoring = score_method))"
      ],
      "execution_count": 33,
      "outputs": [
        {
          "output_type": "stream",
          "text": [
            "The accuracies of the K NEAREST NEIGHBOURS model (balanced sampling + tree based feature selection) is: \n",
            "[0.88557214 0.82338308 0.91044776 0.95024876 0.89027431 0.9201995\n",
            " 0.93516209 0.90274314 0.8925     0.955     ]\n",
            "The accuracies of the K NEAREST NEIGHBOURS model (balanced sampling + L1 based feature selection) is: \n",
            "[0.82587065 0.80845771 0.88308458 0.96268657 0.88279302 0.89027431\n",
            " 0.94264339 0.90274314 0.925      0.95      ]\n"
          ],
          "name": "stdout"
        }
      ]
    },
    {
      "cell_type": "code",
      "metadata": {
        "id": "lzaIWMCUnEs8",
        "colab_type": "code",
        "colab": {
          "base_uri": "https://localhost:8080/",
          "height": 122
        },
        "outputId": "5447c34e-dcba-48c6-db56-b5e6c3bda639"
      },
      "source": [
        "#the accuracies of the NAIVE BAYES model with balanced sampling dataset applying 2 feature selection technique\n",
        "print(\"The accuracies of the NAIVE BAYES model (balanced sampling + tree based feature selection) is: \")\n",
        "print(cross_val_score(gnb_clf, tb_smote_enn_train_set_prepared, smote_enn_train_labels_prepared, cv=10, scoring = score_method))\n",
        "print(\"The accuracies of the NAIVE BAYES model (balanced sampling + L1 based feature selection) is: \")\n",
        "print(cross_val_score(gnb_clf, l_smote_enn_train_set_prepared, smote_enn_train_labels_prepared, cv=10, scoring = score_method))"
      ],
      "execution_count": 34,
      "outputs": [
        {
          "output_type": "stream",
          "text": [
            "The accuracies of the NAIVE BAYES model (balanced sampling + tree based feature selection) is: \n",
            "[0.6641791  0.66666667 0.74875622 0.80597015 0.80049875 0.7605985\n",
            " 0.78553616 0.80299252 0.74       0.7575    ]\n",
            "The accuracies of the NAIVE BAYES model (balanced sampling + L1 based feature selection) is: \n",
            "[0.60447761 0.66169154 0.75870647 0.81343284 0.77306733 0.78802993\n",
            " 0.74563591 0.74314214 0.7375     0.7275    ]\n"
          ],
          "name": "stdout"
        }
      ]
    },
    {
      "cell_type": "code",
      "metadata": {
        "id": "i9V9DjoKncQA",
        "colab_type": "code",
        "colab": {
          "base_uri": "https://localhost:8080/",
          "height": 122
        },
        "outputId": "69195da8-1bd7-4ad2-d46b-057b6bd8dd4e"
      },
      "source": [
        "#the accuracies of the RULE BASED  model with balanced sampling dataset applying 2 feature selection technique\n",
        "print(\"The accuracies of the RULE BASED  model (balanced sampling + tree based feature selection) is: \")\n",
        "print(cross_val_score(dc_clf, tb_smote_enn_train_set_prepared, smote_enn_train_labels_prepared, cv=10, scoring = score_method))\n",
        "print(\"The accuracies of the RULE BASED  model (balanced sampling + L1 based feature selection) is: \")\n",
        "print(cross_val_score(dc_clf, l_smote_enn_train_set_prepared, smote_enn_train_labels_prepared, cv=10, scoring = score_method))"
      ],
      "execution_count": 35,
      "outputs": [
        {
          "output_type": "stream",
          "text": [
            "The accuracies of the RULE BASED  model (balanced sampling + tree based feature selection) is: \n",
            "[0.51492537 0.45273632 0.5199005  0.49253731 0.53366584 0.51620948\n",
            " 0.4563591  0.50623441 0.5175     0.4375    ]\n",
            "The accuracies of the RULE BASED  model (balanced sampling + L1 based feature selection) is: \n",
            "[0.50746269 0.51243781 0.51243781 0.47014925 0.49127182 0.49376559\n",
            " 0.53117207 0.49376559 0.4775     0.525     ]\n"
          ],
          "name": "stdout"
        }
      ]
    },
    {
      "cell_type": "code",
      "metadata": {
        "id": "PCYjBFA-nrAR",
        "colab_type": "code",
        "colab": {}
      },
      "source": [
        ""
      ],
      "execution_count": 0,
      "outputs": []
    }
  ]
}
