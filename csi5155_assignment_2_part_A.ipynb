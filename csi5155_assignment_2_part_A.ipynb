{
  "nbformat": 4,
  "nbformat_minor": 0,
  "metadata": {
    "colab": {
      "name": "csi5155_assignment_2_part_A.ipynb",
      "provenance": [],
      "include_colab_link": true
    },
    "kernelspec": {
      "name": "python3",
      "display_name": "Python 3"
    }
  },
  "cells": [
    {
      "cell_type": "markdown",
      "metadata": {
        "id": "view-in-github",
        "colab_type": "text"
      },
      "source": [
        "<a href=\"https://colab.research.google.com/github/EmperoR1127/CSI5155_project/blob/master/csi5155_assignment_2_part_A.ipynb\" target=\"_parent\"><img src=\"https://colab.research.google.com/assets/colab-badge.svg\" alt=\"Open In Colab\"/></a>"
      ]
    },
    {
      "cell_type": "code",
      "metadata": {
        "id": "hVReUimnwcbV",
        "colab_type": "code",
        "outputId": "f01c585b-956a-44f4-9f2a-a85e1c19cc4f",
        "colab": {
          "base_uri": "https://localhost:8080/",
          "height": 125
        }
      },
      "source": [
        " from google.colab import drive\n",
        "drive.mount('/content/drive')"
      ],
      "execution_count": 2,
      "outputs": [
        {
          "output_type": "stream",
          "text": [
            "Go to this URL in a browser: https://accounts.google.com/o/oauth2/auth?client_id=947318989803-6bn6qk8qdgf4n4g3pfee6491hc0brc4i.apps.googleusercontent.com&redirect_uri=urn%3Aietf%3Awg%3Aoauth%3A2.0%3Aoob&scope=email%20https%3A%2F%2Fwww.googleapis.com%2Fauth%2Fdocs.test%20https%3A%2F%2Fwww.googleapis.com%2Fauth%2Fdrive%20https%3A%2F%2Fwww.googleapis.com%2Fauth%2Fdrive.photos.readonly%20https%3A%2F%2Fwww.googleapis.com%2Fauth%2Fpeopleapi.readonly&response_type=code\n",
            "\n",
            "Enter your authorization code:\n",
            "··········\n",
            "Mounted at /content/drive\n"
          ],
          "name": "stdout"
        }
      ]
    },
    {
      "cell_type": "code",
      "metadata": {
        "id": "XdE-dpTnwmCT",
        "colab_type": "code",
        "outputId": "fb6a586b-ec30-49d8-c186-d9bb8fc8d7a9",
        "colab": {
          "base_uri": "https://localhost:8080/",
          "height": 72
        }
      },
      "source": [
        "# To support both python 2 and python 3\n",
        "from __future__ import division, print_function, unicode_literals\n",
        "\n",
        "# Common imports\n",
        "import numpy as np\n",
        "import os\n",
        "from scipy.io import arff\n",
        "import pandas as pd\n",
        "\n",
        "# to make this notebook's output stable across runs\n",
        "np.random.seed(42)\n",
        "\n",
        "# To plot pretty figures\n",
        "%matplotlib inline\n",
        "import matplotlib as mpl\n",
        "import matplotlib.pyplot as plt\n",
        "mpl.rc('axes', labelsize=14)\n",
        "mpl.rc('xtick', labelsize=12)\n",
        "mpl.rc('ytick', labelsize=12)\n",
        "\n",
        "# Where to save the figures\n",
        "PROJECT_ROOT_DIR = \"/content/drive/My Drive/Images/\"\n",
        "\n",
        "def save_fig(fig_id, tight_layout=True):\n",
        "    path = os.path.join(PROJECT_ROOT_DIR, \"images\", fig_id + \".png\")\n",
        "    print(\"Saving figure\", fig_id)\n",
        "    if tight_layout:\n",
        "        plt.tight_layout()\n",
        "    plt.savefig(path, format='png', dpi=300)\n",
        "\n",
        "data = arff.loadarff('/content/drive/My Drive/Data/seismic-bumps.arff')\n",
        "seismic_bumps_data = pd.DataFrame(data[0])\n",
        "#pre-process the train_set\n",
        "train_labels = seismic_bumps_data[[\"class\"]].copy()\n",
        "train_set = seismic_bumps_data.drop([\"class\"], axis=1)\n",
        "train_labels[\"class\"] = train_labels[\"class\"].map(lambda x: str(x)[2])\n",
        "train_set_num = seismic_bumps_data.drop([\"seismic\",\"seismoacoustic\",\"shift\", \"ghazard\", \"class\"], axis=1)\n",
        "train_set_cat = seismic_bumps_data.drop([\"genergy\",\"gpuls\",\"gdenergy\", \"gdpuls\", \"nbumps\", \"nbumps2\", \"nbumps3\", \"nbumps4\", \"nbumps5\", \"nbumps6\", \"nbumps7\", \"nbumps89\", \"energy\", \"maxenergy\", \"class\"], axis=1)\n",
        "#build the pipeline\n",
        "from sklearn.pipeline import Pipeline\n",
        "from sklearn.impute import SimpleImputer\n",
        "from sklearn.preprocessing import StandardScaler\n",
        "from sklearn.compose import ColumnTransformer\n",
        "from sklearn.preprocessing import OneHotEncoder\n",
        "from sklearn.preprocessing import LabelEncoder\n",
        "num_pipeline = Pipeline([('imputer', SimpleImputer(strategy=\"median\")),('std_scaler', StandardScaler()),])\n",
        "full_pipeline = ColumnTransformer([(\"num\", num_pipeline, list(train_set_num)),(\"cat\", OneHotEncoder(), list(train_set_cat)),])\n",
        "#prepare the data\n",
        "train_set_prepared = full_pipeline.fit_transform(train_set)\n",
        "#prepare the target\n",
        "encoder = LabelEncoder()\n",
        "train_labels_prepared = encoder.fit_transform(train_labels)"
      ],
      "execution_count": 3,
      "outputs": [
        {
          "output_type": "stream",
          "text": [
            "/usr/local/lib/python3.6/dist-packages/sklearn/preprocessing/label.py:235: DataConversionWarning: A column-vector y was passed when a 1d array was expected. Please change the shape of y to (n_samples, ), for example using ravel().\n",
            "  y = column_or_1d(y, warn=True)\n"
          ],
          "name": "stderr"
        }
      ]
    },
    {
      "cell_type": "code",
      "metadata": {
        "id": "guxNrUGZxyr8",
        "colab_type": "code",
        "outputId": "6385c7a9-e734-44ba-bdf6-4fbab1365351",
        "colab": {
          "base_uri": "https://localhost:8080/",
          "height": 125
        }
      },
      "source": [
        "#rebalance the dataset using 3 different approaches\n",
        "from collections import Counter\n",
        "from imblearn.over_sampling import RandomOverSampler\n",
        "from imblearn.under_sampling import RepeatedEditedNearestNeighbours\n",
        "from imblearn.combine import SMOTEENN\n",
        "#rebalance the dataset using oversampling (random oversampling)\n",
        "ros = RandomOverSampler(random_state=42)\n",
        "ros_train_set_prepared, ros_train_labels_prepared = ros.fit_resample(train_set_prepared, train_labels_prepared)\n",
        "print(\"Class distribution of oversampling\" + str(sorted(Counter(ros_train_labels_prepared).items())))\n",
        "\n",
        "#rebalance the dataset using undersampling (nearest neightbours)\n",
        "renn = RepeatedEditedNearestNeighbours()\n",
        "renn_train_set_prepared, renn_train_labels_prepared = renn.fit_resample(train_set_prepared, train_labels_prepared)\n",
        "print(\"Class distribution of undersampling\" + str(sorted(Counter(renn_train_labels_prepared).items())))\n",
        "\n",
        "#rebalance the dataset using balanced sampling (SMOTEENN)\n",
        "smote_enn = SMOTEENN(random_state=0)\n",
        "smote_enn_train_set_prepared, smote_enn_train_labels_prepared = smote_enn.fit_resample(train_set_prepared, train_labels_prepared)\n",
        "print(\"Class distribution of balanced sampling\" + str(sorted(Counter(smote_enn_train_labels_prepared).items())))"
      ],
      "execution_count": 4,
      "outputs": [
        {
          "output_type": "stream",
          "text": [
            "/usr/local/lib/python3.6/dist-packages/sklearn/externals/six.py:31: DeprecationWarning: The module is deprecated in version 0.21 and will be removed in version 0.23 since we've dropped support for Python 2.7. Please rely on the official version of six (https://pypi.org/project/six/).\n",
            "  \"(https://pypi.org/project/six/).\", DeprecationWarning)\n"
          ],
          "name": "stderr"
        },
        {
          "output_type": "stream",
          "text": [
            "Class distribution of oversampling[(0, 2414), (1, 2414)]\n",
            "Class distribution of undersampling[(0, 1920), (1, 170)]\n",
            "Class distribution of balanced sampling[(0, 1818), (1, 2194)]\n"
          ],
          "name": "stdout"
        }
      ]
    },
    {
      "cell_type": "code",
      "metadata": {
        "id": "WLRdeBMkDsmI",
        "colab_type": "code",
        "outputId": "75657efb-d4c2-4a52-91f3-301090d6b482",
        "colab": {
          "base_uri": "https://localhost:8080/",
          "height": 281
        }
      },
      "source": [
        "#train the model using DECISION TREE algorithm with 10 fold cross validation\n",
        "from sklearn.tree import DecisionTreeClassifier\n",
        "from sklearn.model_selection import cross_val_predict\n",
        "from sklearn.metrics import precision_score, recall_score, accuracy_score\n",
        "dt_clf = DecisionTreeClassifier()\n",
        "\n",
        "#train the model on the oversampling dataset\n",
        "dt_or_train_prediction = cross_val_predict(dt_clf.fit(train_set_prepared, train_labels_prepared), train_set_prepared, train_labels_prepared, cv=10)\n",
        "#train the model on the oversampling dataset\n",
        "dt_ros_train_prediction = cross_val_predict(dt_clf.fit(ros_train_set_prepared, ros_train_labels_prepared), ros_train_set_prepared, ros_train_labels_prepared, cv=10)\n",
        "#train the model on the undersampling dataset\n",
        "dt_renn_train_prediction = cross_val_predict(dt_clf.fit(renn_train_set_prepared, renn_train_labels_prepared), renn_train_set_prepared, renn_train_labels_prepared, cv=10)\n",
        "#train the model on the balanced sampling dataset\n",
        "dt_smote_enn_train_prediction = cross_val_predict(dt_clf.fit(smote_enn_train_set_prepared, smote_enn_train_labels_prepared), smote_enn_train_set_prepared, smote_enn_train_labels_prepared, cv=10)\n",
        "\n",
        "#calculate the presion and recall of original dataset\n",
        "or_precision_score = precision_score(train_labels_prepared, dt_or_train_prediction)\n",
        "or_recall_score = recall_score(train_labels_prepared, dt_or_train_prediction)\n",
        "or_accuracy_score = accuracy_score(train_labels_prepared, dt_or_train_prediction)\n",
        "print(\"precision of decision tree model on original dataset is + %f\" % or_precision_score)\n",
        "print(\"recall of decision tree model on original dataset is + %f\" % or_recall_score)\n",
        "print(\"accuracy of decision tree model on original dataset is + %f\" % or_accuracy_score)\n",
        "print(\"-----------------------------------------\")\n",
        "\n",
        "#calculate the presion and recall of oversampling dataset\n",
        "dt_ros_precision_score = precision_score(ros_train_labels_prepared, dt_ros_train_prediction)\n",
        "dt_ros_recall_score = recall_score(ros_train_labels_prepared, dt_ros_train_prediction)\n",
        "dt_ros_accuracy_score = accuracy_score(ros_train_labels_prepared, dt_ros_train_prediction)\n",
        "print(\"precision of decision tree model on oversampling dataset is + %f\" % dt_ros_precision_score)\n",
        "print(\"recall of decision tree model on oversampling dataset is + %f\" % dt_ros_recall_score)\n",
        "print(\"accuracy of decision tree model on oversampling dataset is + %f\" % dt_ros_accuracy_score)\n",
        "print(\"-----------------------------------------\")\n",
        "\n",
        "#calculate the presion and recall of undersampling dataset\n",
        "dt_renn_precision_score = precision_score(renn_train_labels_prepared, dt_renn_train_prediction)\n",
        "dt_renn_recall_score = recall_score(renn_train_labels_prepared, dt_renn_train_prediction)\n",
        "dt_renn_accuracy_score = accuracy_score(renn_train_labels_prepared, dt_renn_train_prediction)\n",
        "print(\"precision of decision tree model on undersampling dataset is + %f\" % dt_renn_precision_score)\n",
        "print(\"recall of decision tree model on undersampling dataset is + %f\" % dt_renn_recall_score)\n",
        "print(\"accuracy of decision tree model on undersampling dataset is + %f\" % dt_renn_accuracy_score)\n",
        "print(\"-----------------------------------------\")\n",
        "\n",
        "#calculate the presion and recall of balanced sampling dataset\n",
        "dt_smote_enn_precision_score = precision_score(smote_enn_train_labels_prepared, dt_smote_enn_train_prediction)\n",
        "dt_smote_enn_recall_score = recall_score(smote_enn_train_labels_prepared, dt_smote_enn_train_prediction)\n",
        "dt_smote_accuracy_score = accuracy_score(smote_enn_train_labels_prepared, dt_smote_enn_train_prediction)\n",
        "print(\"precision of decision tree model on balanced sampling dataset is + %f\" % dt_smote_enn_precision_score)\n",
        "print(\"recall of decision tree model on balanced sampling dataset is + %f\" % dt_smote_enn_recall_score)\n",
        "print(\"accuracy of decision tree model on balanced sampling dataset is + %f\" % dt_smote_accuracy_score)"
      ],
      "execution_count": 13,
      "outputs": [
        {
          "output_type": "stream",
          "text": [
            "precision of decision tree model on original dataset is + 0.094203\n",
            "recall of decision tree model on original dataset is + 0.152941\n",
            "accuracy of decision tree model on original dataset is + 0.847523\n",
            "-----------------------------------------\n",
            "precision of decision tree model on oversampling dataset is + 0.905476\n",
            "recall of decision tree model on oversampling dataset is + 1.000000\n",
            "accuracy of decision tree model on oversampling dataset is + 0.947804\n",
            "-----------------------------------------\n",
            "precision of decision tree model on undersampling dataset is + 0.273810\n",
            "recall of decision tree model on undersampling dataset is + 0.405882\n",
            "accuracy of decision tree model on undersampling dataset is + 0.864115\n",
            "-----------------------------------------\n",
            "precision of decision tree model on balanced sampling dataset is + 0.893635\n",
            "recall of decision tree model on balanced sampling dataset is + 0.953510\n",
            "accuracy of decision tree model on balanced sampling dataset is + 0.912512\n"
          ],
          "name": "stdout"
        }
      ]
    },
    {
      "cell_type": "code",
      "metadata": {
        "id": "30Gplc2KE7io",
        "colab_type": "code",
        "outputId": "21d40baf-8355-41f3-f0f7-cf8a2de2500b",
        "colab": {
          "base_uri": "https://localhost:8080/",
          "height": 281
        }
      },
      "source": [
        "#train the model using K NEAREST NEIGHBOURS algorithm with 10 fold cross validation\n",
        "from sklearn import neighbors\n",
        "from sklearn.model_selection import cross_val_predict\n",
        "from sklearn.metrics import precision_score, recall_score\n",
        "n_neighbors = 5\n",
        "knn_clf = neighbors.KNeighborsClassifier(n_neighbors, weights='distance')\n",
        "\n",
        "#train the model on the original dataset\n",
        "knn_or_train_prediction = cross_val_predict(knn_clf.fit(train_set_prepared, train_labels_prepared), train_set_prepared, train_labels_prepared, cv=10)\n",
        "#train the model on the oversampling dataset\n",
        "knn_ros_train_prediction = cross_val_predict(knn_clf.fit(ros_train_set_prepared, ros_train_labels_prepared), ros_train_set_prepared, ros_train_labels_prepared, cv=10)\n",
        "#train the model on the undersampling dataset\n",
        "knn_renn_train_prediction = cross_val_predict(knn_clf.fit(renn_train_set_prepared, renn_train_labels_prepared), renn_train_set_prepared, renn_train_labels_prepared, cv=10)\n",
        "#train the model on the balanced sampling dataset\n",
        "knn_smote_enn_train_prediction = cross_val_predict(knn_clf.fit(smote_enn_train_set_prepared, smote_enn_train_labels_prepared), smote_enn_train_set_prepared, smote_enn_train_labels_prepared, cv=10)\n",
        "\n",
        "#calculate the presion and recall of original dataset\n",
        "knn_or_precision_score = precision_score(train_labels_prepared, knn_or_train_prediction)\n",
        "knn_or_recall_score = recall_score(train_labels_prepared, knn_or_train_prediction)\n",
        "knn_or_accuracy_score = accuracy_score(train_labels_prepared, knn_or_train_prediction)\n",
        "print(\"precision of k-nearest neighbours model on original dataset is + %f\" % knn_or_precision_score)\n",
        "print(\"recall of k-nearest neighbours model on original dataset is + %f\" % knn_or_recall_score)\n",
        "print(\"accuracy of k-nearest neighbours model on original dataset is + %f\" % knn_or_accuracy_score)\n",
        "print(\"-----------------------------------------\")\n",
        "\n",
        "#calculate the presion and recall of oversampling dataset\n",
        "knn_ros_precision_score = precision_score(ros_train_labels_prepared, knn_ros_train_prediction)\n",
        "knn_ros_recall_score = recall_score(ros_train_labels_prepared, knn_ros_train_prediction)\n",
        "knn_ros_accuracy_score = accuracy_score(ros_train_labels_prepared, knn_ros_train_prediction)\n",
        "print(\"precision of k-nearest neighbours model on oversampling dataset is + %f\" % knn_ros_precision_score)\n",
        "print(\"recall of k-nearest neighbours model on oversampling dataset is + %f\" % knn_ros_recall_score)\n",
        "print(\"accuracy of k-nearest neighbours model on oversampling dataset is + %f\" % knn_ros_accuracy_score)\n",
        "print(\"-----------------------------------------\")\n",
        "\n",
        "#calculate the presion and recall of undersampling dataset\n",
        "knn_renn_precision_score = precision_score(renn_train_labels_prepared, knn_renn_train_prediction)\n",
        "knn_renn_recall_score = recall_score(renn_train_labels_prepared, knn_renn_train_prediction)\n",
        "knn_renn_accuracy_score = accuracy_score(renn_train_labels_prepared, knn_renn_train_prediction)\n",
        "print(\"precision of k-nearest neighbours model on undersampling dataset is + %f\" % knn_renn_precision_score)\n",
        "print(\"recall of k-nearest neighbours model on undersampling dataset is + %f\" % knn_renn_recall_score)\n",
        "print(\"accuracy of k-nearest neighbours model on undersampling dataset is + %f\" % knn_renn_accuracy_score)\n",
        "print(\"-----------------------------------------\")\n",
        "\n",
        "#calculate the presion and recall of balanced sampling dataset\n",
        "knn_smote_enn_precision_score = precision_score(smote_enn_train_labels_prepared, knn_smote_enn_train_prediction)\n",
        "knn_smote_enn_recall_score = recall_score(smote_enn_train_labels_prepared, knn_smote_enn_train_prediction)\n",
        "knn_smote_enn_accuracy_score = accuracy_score(smote_enn_train_labels_prepared, knn_smote_enn_train_prediction)\n",
        "print(\"precision of k-nearest neighbours model on balanced sampling dataset is + %f\" % knn_smote_enn_precision_score)\n",
        "print(\"recall of k-nearest neighbours model on balanced sampling dataset is + %f\" % knn_smote_enn_recall_score)\n",
        "print(\"accuracy of k-nearest neighbours model on balanced sampling dataset is + %f\" % knn_smote_enn_accuracy_score)"
      ],
      "execution_count": 14,
      "outputs": [
        {
          "output_type": "stream",
          "text": [
            "precision of k-nearest neighbours model on original dataset is + 0.180952\n",
            "recall of k-nearest neighbours model on original dataset is + 0.111765\n",
            "accuracy of k-nearest neighbours model on original dataset is + 0.908282\n",
            "-----------------------------------------\n",
            "precision of k-nearest neighbours model on oversampling dataset is + 0.826996\n",
            "recall of k-nearest neighbours model on oversampling dataset is + 1.000000\n",
            "accuracy of k-nearest neighbours model on oversampling dataset is + 0.895402\n",
            "-----------------------------------------\n",
            "precision of k-nearest neighbours model on undersampling dataset is + 0.583333\n",
            "recall of k-nearest neighbours model on undersampling dataset is + 0.329412\n",
            "accuracy of k-nearest neighbours model on undersampling dataset is + 0.926316\n",
            "-----------------------------------------\n",
            "precision of k-nearest neighbours model on balanced sampling dataset is + 0.916351\n",
            "recall of k-nearest neighbours model on balanced sampling dataset is + 0.993619\n",
            "accuracy of k-nearest neighbours model on balanced sampling dataset is + 0.946909\n"
          ],
          "name": "stdout"
        }
      ]
    },
    {
      "cell_type": "code",
      "metadata": {
        "id": "5IHMKatVHDjv",
        "colab_type": "code",
        "outputId": "625e9a66-9dcf-46f7-f38a-17c60393864e",
        "colab": {
          "base_uri": "https://localhost:8080/",
          "height": 281
        }
      },
      "source": [
        "#train the model using NAIVE BAYES algorithm with 10 fold cross validation\n",
        "from sklearn.naive_bayes import GaussianNB\n",
        "from sklearn.model_selection import cross_val_predict\n",
        "from sklearn.metrics import precision_score, recall_score\n",
        "gnb_clf = GaussianNB()\n",
        "\n",
        "#train the model on the original dataset\n",
        "gnb_or_train_prediction = cross_val_predict(gnb_clf.fit(train_set_prepared, train_labels_prepared), train_set_prepared, train_labels_prepared, cv=10)\n",
        "#train the model on the oversampling dataset\n",
        "gnb_ros_train_prediction = cross_val_predict(gnb_clf.fit(ros_train_set_prepared, ros_train_labels_prepared), ros_train_set_prepared, ros_train_labels_prepared, cv=10)\n",
        "#train the model on the undersampling dataset\n",
        "gnb_renn_train_prediction = cross_val_predict(gnb_clf.fit(renn_train_set_prepared, renn_train_labels_prepared), renn_train_set_prepared, renn_train_labels_prepared, cv=10)\n",
        "#train the model on the balanced sampling dataset\n",
        "gnb_smote_enn_train_prediction = cross_val_predict(gnb_clf.fit(smote_enn_train_set_prepared, smote_enn_train_labels_prepared), smote_enn_train_set_prepared, smote_enn_train_labels_prepared, cv=10)\n",
        "\n",
        "#calculate the presion and recall of original dataset\n",
        "gnb_or_precision_score = precision_score(train_labels_prepared, gnb_or_train_prediction)\n",
        "gnb_or_recall_score = recall_score(train_labels_prepared, gnb_or_train_prediction)\n",
        "gnb_or_accuracy_score = accuracy_score(train_labels_prepared, gnb_or_train_prediction)\n",
        "print(\"precision of naive bayes model on original dataset is + %f\" % gnb_or_precision_score)\n",
        "print(\"recall of naive bayes model on original dataset is + %f\" % gnb_or_recall_score)\n",
        "print(\"accuracy of naive bayes model on original dataset is + %f\" % gnb_or_accuracy_score)\n",
        "print(\"-----------------------------------------\")\n",
        "\n",
        "#calculate the presion and recall of oversampling dataset\n",
        "gnb_ros_precision_score = precision_score(ros_train_labels_prepared, gnb_ros_train_prediction)\n",
        "gnb_ros_recall_score = recall_score(ros_train_labels_prepared, gnb_ros_train_prediction)\n",
        "gnb_ros_accuracy_score = accuracy_score(ros_train_labels_prepared, gnb_ros_train_prediction)\n",
        "print(\"precision of naive bayes model on oversampling dataset is + %f\" % gnb_ros_precision_score)\n",
        "print(\"recall of naive bayes model on oversampling dataset is + %f\" % gnb_ros_recall_score)\n",
        "print(\"accuracy of naive bayes model on oversampling dataset is + %f\" % gnb_ros_accuracy_score)\n",
        "print(\"-----------------------------------------\")\n",
        "\n",
        "#calculate the presion and recall of undersampling dataset\n",
        "gnb_renn_precision_score = precision_score(renn_train_labels_prepared, gnb_renn_train_prediction)\n",
        "gnb_renn_recall_score = recall_score(renn_train_labels_prepared, gnb_renn_train_prediction)\n",
        "gnb_renn_accuracy_score = accuracy_score(renn_train_labels_prepared, gnb_renn_train_prediction)\n",
        "print(\"precision of naive bayes model on undersampling dataset is + %f\" % gnb_renn_precision_score)\n",
        "print(\"recall of naive bayes model on undersampling dataset is + %f\" % gnb_renn_recall_score)\n",
        "print(\"accuracy of naive bayes model on undersampling dataset is + %f\" % gnb_renn_accuracy_score)\n",
        "print(\"-----------------------------------------\")\n",
        "\n",
        "#calculate the presion and recall of balanced sampling dataset\n",
        "gnb_smote_enn_precision_score = precision_score(smote_enn_train_labels_prepared, gnb_smote_enn_train_prediction)\n",
        "gnb_smote_enn_recall_score = recall_score(smote_enn_train_labels_prepared, gnb_smote_enn_train_prediction)\n",
        "gnb_smote_enn_accuracy_score = accuracy_score(smote_enn_train_labels_prepared, gnb_smote_enn_train_prediction)\n",
        "print(\"precision of naive bayes model on balanced sampling dataset is + %f\" % gnb_smote_enn_precision_score)\n",
        "print(\"recall of naive bayes model on balanced sampling dataset is + %f\" % gnb_smote_enn_recall_score)\n",
        "print(\"accuracy of naive bayes model on balanced sampling dataset is + %f\" % gnb_smote_enn_accuracy_score)"
      ],
      "execution_count": 15,
      "outputs": [
        {
          "output_type": "stream",
          "text": [
            "precision of naive bayes model on original dataset is + 0.088388\n",
            "recall of naive bayes model on original dataset is + 0.900000\n",
            "accuracy of naive bayes model on original dataset is + 0.382740\n",
            "-----------------------------------------\n",
            "precision of naive bayes model on oversampling dataset is + 0.593566\n",
            "recall of naive bayes model on oversampling dataset is + 0.917150\n",
            "accuracy of naive bayes model on oversampling dataset is + 0.644573\n",
            "-----------------------------------------\n",
            "precision of naive bayes model on undersampling dataset is + 0.118022\n",
            "recall of naive bayes model on undersampling dataset is + 0.870588\n",
            "accuracy of naive bayes model on undersampling dataset is + 0.460287\n",
            "-----------------------------------------\n",
            "precision of naive bayes model on balanced sampling dataset is + 0.698139\n",
            "recall of naive bayes model on balanced sampling dataset is + 0.923428\n",
            "accuracy of naive bayes model on balanced sampling dataset is + 0.739781\n"
          ],
          "name": "stdout"
        }
      ]
    },
    {
      "cell_type": "code",
      "metadata": {
        "id": "T9D-IMODJCDR",
        "colab_type": "code",
        "outputId": "84dd6fcc-2197-42fe-978c-eb933b9ae479",
        "colab": {
          "base_uri": "https://localhost:8080/",
          "height": 281
        }
      },
      "source": [
        "#train the model using RULE BASED algorithm with 10 fold cross validation\n",
        "from sklearn.dummy import DummyClassifier\n",
        "from sklearn.model_selection import cross_val_predict\n",
        "from sklearn.metrics import precision_score, recall_score\n",
        "dc_clf = DummyClassifier(strategy='stratified')\n",
        "\n",
        "#train the model on the original dataset\n",
        "dc_or_train_prediction = cross_val_predict(dc_clf.fit(train_set_prepared, train_labels_prepared), train_set_prepared, train_labels_prepared, cv=10)\n",
        "#train the model on the oversampling dataset\n",
        "dc_ros_train_prediction = cross_val_predict(dc_clf.fit(ros_train_set_prepared, ros_train_labels_prepared), ros_train_set_prepared, ros_train_labels_prepared, cv=10)\n",
        "#train the model on the undersampling dataset\n",
        "dc_renn_train_prediction = cross_val_predict(dc_clf.fit(renn_train_set_prepared, renn_train_labels_prepared), renn_train_set_prepared, renn_train_labels_prepared, cv=10)\n",
        "#train the model on the balanced sampling dataset\n",
        "dc_smote_enn_train_prediction = cross_val_predict(dc_clf.fit(smote_enn_train_set_prepared, smote_enn_train_labels_prepared), smote_enn_train_set_prepared, smote_enn_train_labels_prepared, cv=10)\n",
        "\n",
        "#calculate the presion and recall of original dataset\n",
        "dc_or_precision_score = precision_score(train_labels_prepared, dc_or_train_prediction)\n",
        "dc_or_recall_score = recall_score(train_labels_prepared, dc_or_train_prediction)\n",
        "dc_or_accuracy_score = accuracy_score(train_labels_prepared, dc_or_train_prediction)\n",
        "print(\"precision of rule based model on original dataset is + %f\" % dc_or_precision_score)\n",
        "print(\"recall of rule based model on original dataset is + %f\" % dc_or_recall_score)\n",
        "print(\"accuracy of rule based model on original dataset is + %f\" % dc_or_accuracy_score)\n",
        "print(\"-----------------------------------------\")\n",
        "\n",
        "#calculate the presion and recall of oversampling dataset\n",
        "dc_ros_precision_score = precision_score(ros_train_labels_prepared, dc_ros_train_prediction)\n",
        "dc_ros_recall_score = recall_score(ros_train_labels_prepared, dc_ros_train_prediction)\n",
        "dc_ros_accuracy_score = accuracy_score(ros_train_labels_prepared, dc_ros_train_prediction)\n",
        "print(\"precision of rule based model on oversampling dataset is + %f\" % dc_ros_precision_score)\n",
        "print(\"recall of rule based model on oversampling dataset is + %f\" % dc_ros_recall_score)\n",
        "print(\"accuracy of rule based model on oversampling dataset is + %f\" % dc_ros_accuracy_score)\n",
        "print(\"-----------------------------------------\")\n",
        "\n",
        "#calculate the presion and recall of undersampling dataset\n",
        "dc_renn_precision_score = precision_score(renn_train_labels_prepared, dc_renn_train_prediction)\n",
        "dc_renn_recall_score = recall_score(renn_train_labels_prepared, dc_renn_train_prediction)\n",
        "dc_renn_accuracy_score = accuracy_score(renn_train_labels_prepared, dc_renn_train_prediction)\n",
        "print(\"precision of rule based model on undersampling dataset is + %f\" % dc_renn_precision_score)\n",
        "print(\"recall of rule based model on undersampling dataset is + %f\" % dc_renn_recall_score)\n",
        "print(\"accuracy of rule based model on undersampling dataset is + %f\" % dc_renn_accuracy_score)\n",
        "print(\"-----------------------------------------\")\n",
        "\n",
        "#calculate the presion and recall of balanced sampling dataset\n",
        "dc_smote_enn_precision_score = precision_score(smote_enn_train_labels_prepared, dc_smote_enn_train_prediction)\n",
        "dc_smote_enn_recall_score = recall_score(smote_enn_train_labels_prepared, dc_smote_enn_train_prediction)\n",
        "dc_smote_enn_accuracy_score = accuracy_score(smote_enn_train_labels_prepared, dc_smote_enn_train_prediction)\n",
        "print(\"precision of rule based model on balanced sampling dataset is + %f\" % dc_smote_enn_precision_score)\n",
        "print(\"recall of rule based model on balanced sampling dataset is + %f\" % dc_smote_enn_recall_score)\n",
        "print(\"accuracy of rule based model on balanced sampling dataset is + %f\" % dc_smote_enn_accuracy_score)"
      ],
      "execution_count": 17,
      "outputs": [
        {
          "output_type": "stream",
          "text": [
            "precision of rule based model on original dataset is + 0.040462\n",
            "recall of rule based model on original dataset is + 0.041176\n",
            "accuracy of rule based model on original dataset is + 0.872678\n",
            "-----------------------------------------\n",
            "precision of rule based model on oversampling dataset is + 0.502641\n",
            "recall of rule based model on oversampling dataset is + 0.512428\n",
            "accuracy of rule based model on oversampling dataset is + 0.502693\n",
            "-----------------------------------------\n",
            "precision of rule based model on undersampling dataset is + 0.091463\n",
            "recall of rule based model on undersampling dataset is + 0.088235\n",
            "accuracy of rule based model on undersampling dataset is + 0.854545\n",
            "-----------------------------------------\n",
            "precision of rule based model on balanced sampling dataset is + 0.549244\n",
            "recall of rule based model on balanced sampling dataset is + 0.546490\n",
            "accuracy of rule based model on balanced sampling dataset is + 0.506730\n"
          ],
          "name": "stdout"
        }
      ]
    },
    {
      "cell_type": "code",
      "metadata": {
        "id": "inuITYr9J5qk",
        "colab_type": "code",
        "outputId": "b4db6800-566b-451f-e92b-604b189855d1",
        "colab": {
          "base_uri": "https://localhost:8080/",
          "height": 70
        }
      },
      "source": [
        "#the accuracies of the DECISION TREE model against each one of the ten folds when trained against the balanced sampling technique\n",
        "from sklearn.metrics import make_scorer\n",
        "from sklearn.metrics import accuracy_score\n",
        "from sklearn.model_selection import cross_val_score\n",
        "score_method = make_scorer(accuracy_score)\n",
        "dt_accuracy = cross_val_score(dt_clf, smote_enn_train_set_prepared, smote_enn_train_labels_prepared, cv=10, scoring = score_method)\n",
        "print(\"The accuracies of the DECISION TREE model trained against the balanced sampling dataset is: \")\n",
        "print(dt_accuracy)"
      ],
      "execution_count": 22,
      "outputs": [
        {
          "output_type": "stream",
          "text": [
            "The accuracies of the DECISION TREE model trained against the balanced sampling dataset is: \n",
            "[0.82089552 0.82587065 0.89800995 0.95522388 0.95261845 0.93516209\n",
            " 0.95511222 0.92269327 0.92       0.9425    ]\n"
          ],
          "name": "stdout"
        }
      ]
    },
    {
      "cell_type": "code",
      "metadata": {
        "id": "Shy_bK03QGDb",
        "colab_type": "code",
        "outputId": "df0175a4-aabb-43cc-8113-2d8cea666cbd",
        "colab": {
          "base_uri": "https://localhost:8080/",
          "height": 70
        }
      },
      "source": [
        "#the accuracies of the K NEAREST NEIGHBOURS model against each one of the ten folds when trained against the balanced sampling technique\n",
        "knn_accuracy = cross_val_score(knn_clf, smote_enn_train_set_prepared, smote_enn_train_labels_prepared, cv=10, scoring = score_method)\n",
        "print(\"The accuracies of the K NEAREST NEIGHBOURS model trained against the balanced sampling dataset is: \")\n",
        "print(knn_accuracy)"
      ],
      "execution_count": 21,
      "outputs": [
        {
          "output_type": "stream",
          "text": [
            "The accuracies of the K NEAREST NEIGHBOURS model trained against the balanced sampling dataset is: \n",
            "[0.89054726 0.91044776 0.94029851 0.97512438 0.96259352 0.94264339\n",
            " 0.98004988 0.94763092 0.9375     0.9825    ]\n"
          ],
          "name": "stdout"
        }
      ]
    },
    {
      "cell_type": "code",
      "metadata": {
        "id": "738K_fErgMko",
        "colab_type": "code",
        "outputId": "1a65abbc-1852-443e-fb05-afe468c41eda",
        "colab": {
          "base_uri": "https://localhost:8080/",
          "height": 70
        }
      },
      "source": [
        "#the accuracies of the NAIVE BAYES model against each one of the ten folds when trained against the balanced sampling technique\n",
        "gnb_accuracy = cross_val_score(gnb_clf, smote_enn_train_set_prepared, smote_enn_train_labels_prepared, cv=10, scoring = score_method)\n",
        "print(\"The accuracies of the NAIVE BAYES model trained against the balanced sampling dataset is: \")\n",
        "print(gnb_accuracy)"
      ],
      "execution_count": 23,
      "outputs": [
        {
          "output_type": "stream",
          "text": [
            "The accuracies of the NAIVE BAYES model trained against the balanced sampling dataset is: \n",
            "[0.75621891 0.71890547 0.79353234 0.87562189 0.71820449 0.73566085\n",
            " 0.73566085 0.70573566 0.68       0.6775    ]\n"
          ],
          "name": "stdout"
        }
      ]
    },
    {
      "cell_type": "code",
      "metadata": {
        "id": "pmaAkRqegVDY",
        "colab_type": "code",
        "outputId": "f14fcc31-7e6a-4f5a-9d19-f62fcbc1d0d1",
        "colab": {
          "base_uri": "https://localhost:8080/",
          "height": 70
        }
      },
      "source": [
        "#the accuracies of the RULE BASED  model against each one of the ten folds when trained against the balanced sampling technique\n",
        "dc_accuracy = cross_val_score(dc_clf, smote_enn_train_set_prepared, smote_enn_train_labels_prepared, cv=10, scoring = score_method)\n",
        "print(\"The accuracies of the RULE BASED  model trained against the balanced sampling dataset is: \")\n",
        "print(dc_accuracy)"
      ],
      "execution_count": 24,
      "outputs": [
        {
          "output_type": "stream",
          "text": [
            "The accuracies of the RULE BASED  model trained against the balanced sampling dataset is: \n",
            "[0.53482587 0.50995025 0.52736318 0.50746269 0.51870324 0.49625935\n",
            " 0.53366584 0.54862843 0.4975     0.55      ]\n"
          ],
          "name": "stdout"
        }
      ]
    },
    {
      "cell_type": "code",
      "metadata": {
        "id": "_XqO0hikBrfo",
        "colab_type": "code",
        "colab": {
          "base_uri": "https://localhost:8080/",
          "height": 316
        },
        "outputId": "f1229ce1-8156-4fc3-9715-c2e78812649a"
      },
      "source": [
        "#Determine whether there is a statistically significant difference in the accuracies obtained by the fouralgorithms.\n",
        "#calculate p-value using paired t test \n",
        "from decimal import Decimal\n",
        "from scipy import stats\n",
        "print(\"The p-value of DT-KNN is\")\n",
        "print(Decimal(stats.ttest_rel(a=dt_accuracy,b=knn_accuracy)[1]).quantize(Decimal(\"0.0000\")))\n",
        "print(\"-----------------------------------------\")\n",
        "print(\"The p-value of DT-NB is\")\n",
        "print(Decimal(stats.ttest_rel(a=dt_accuracy,b=gnb_accuracy)[1]).quantize(Decimal(\"0.0000\")))\n",
        "print(\"-----------------------------------------\")\n",
        "print(\"The p-value of DT-RB is\")\n",
        "print(Decimal(stats.ttest_rel(a=dt_accuracy,b=dc_accuracy)[1]).quantize(Decimal(\"0.0000\")))\n",
        "print(\"-----------------------------------------\")\n",
        "print(\"The p-value of KNN-NB is\")\n",
        "print(Decimal(stats.ttest_rel(a=knn_accuracy,b=gnb_accuracy)[1]).quantize(Decimal(\"0.0000\")))\n",
        "print(\"-----------------------------------------\")\n",
        "print(\"The p-value of KNN-RB is\")\n",
        "print(Decimal(stats.ttest_rel(a=knn_accuracy,b=dc_accuracy)[1]).quantize(Decimal(\"0.0000\")))\n",
        "print(\"-----------------------------------------\")\n",
        "print(\"The p-value of NB-RB is\")\n",
        "print(Decimal(stats.ttest_rel(a=gnb_accuracy,b=dc_accuracy)[1]).quantize(Decimal(\"0.0000\")))"
      ],
      "execution_count": 39,
      "outputs": [
        {
          "output_type": "stream",
          "text": [
            "The p-value of DT-KNN is\n",
            "0.0022\n",
            "-----------------------------------------\n",
            "The p-value of DT-NB is\n",
            "0.0000\n",
            "-----------------------------------------\n",
            "The p-value of DT-RB is\n",
            "0.0000\n",
            "-----------------------------------------\n",
            "The p-value of KNN-NB is\n",
            "0.0000\n",
            "-----------------------------------------\n",
            "The p-value of KNN-RB is\n",
            "0.0000\n",
            "-----------------------------------------\n",
            "The p-value of NB-RB is\n",
            "0.0000\n"
          ],
          "name": "stdout"
        }
      ]
    },
    {
      "cell_type": "code",
      "metadata": {
        "id": "GX6ftNbigkIF",
        "colab_type": "code",
        "outputId": "67ef0d8f-894e-4c41-aee7-3641cf3d7249",
        "colab": {
          "base_uri": "https://localhost:8080/",
          "height": 52
        }
      },
      "source": [
        "#apply two different feature selection techniques to the balanced sampling dataset\n",
        "from sklearn.ensemble import ExtraTreesClassifier\n",
        "from sklearn.feature_selection import SelectFromModel\n",
        "from sklearn.svm import LinearSVC\n",
        "#tree-based feature selection\n",
        "clf = ExtraTreesClassifier(n_estimators=50)\n",
        "clf = clf.fit(smote_enn_train_set_prepared, smote_enn_train_labels_prepared)\n",
        "tb_model = SelectFromModel(clf, prefit=True)\n",
        "tb_smote_enn_train_set_prepared = tb_model.transform(smote_enn_train_set_prepared)\n",
        "print(\"Dataset with \" + str(smote_enn_train_set_prepared.shape[1]) + \" features is reduced to \" + str(tb_smote_enn_train_set_prepared.shape[1])\n",
        "      + \" features after applying tree based feature selection technique\")\n",
        "\n",
        "#L1-based feature selection\n",
        "lsvc = LinearSVC(C=0.01, penalty=\"l1\", dual=False).fit(smote_enn_train_set_prepared, smote_enn_train_labels_prepared)\n",
        "l_model = SelectFromModel(lsvc, prefit=True)\n",
        "l_smote_enn_train_set_prepared = l_model.transform(smote_enn_train_set_prepared)\n",
        "print(\"Dataset with \" + str(smote_enn_train_set_prepared.shape[1]) + \" features is reduced to \" + str(l_smote_enn_train_set_prepared.shape[1])\n",
        "      + \" features after applying L1-based feature selection technique\")"
      ],
      "execution_count": 0,
      "outputs": [
        {
          "output_type": "stream",
          "text": [
            "Dataset with 24 features is reduced to 10 features after applying tree based feature selection technique\n",
            "Dataset with 24 features is reduced to 8 features after applying L1-based feature selection technique\n"
          ],
          "name": "stdout"
        }
      ]
    },
    {
      "cell_type": "code",
      "metadata": {
        "id": "lM-rCncOh7fR",
        "colab_type": "code",
        "outputId": "c894097e-4871-47ef-a338-3292592a0fec",
        "colab": {
          "base_uri": "https://localhost:8080/",
          "height": 122
        }
      },
      "source": [
        "#the accuracies of the DECISION TREE model trained with balanced sampling dataset applying 2 feature selection technique\n",
        "from sklearn.metrics import make_scorer\n",
        "from sklearn.metrics import accuracy_score\n",
        "from sklearn.model_selection import cross_val_score\n",
        "score_method = make_scorer(accuracy_score)\n",
        "print(\"The accuracies of the DECISION TREE model (balanced sampling + tree based feature selection) is: \")\n",
        "print(cross_val_score(dt_clf, tb_smote_enn_train_set_prepared, smote_enn_train_labels_prepared, cv=10, scoring = score_method))\n",
        "print(\"The accuracies of the DECISION TREE model (balanced sampling + L1 based feature selection) is: \")\n",
        "print(cross_val_score(dt_clf, l_smote_enn_train_set_prepared, smote_enn_train_labels_prepared, cv=10, scoring = score_method))"
      ],
      "execution_count": 0,
      "outputs": [
        {
          "output_type": "stream",
          "text": [
            "The accuracies of the DECISION TREE model (balanced sampling + tree based feature selection) is: \n",
            "[0.84577114 0.84079602 0.9079602  0.96517413 0.93266833 0.9276808\n",
            " 0.9201995  0.91022444 0.9175     0.945     ]\n",
            "The accuracies of the DECISION TREE model (balanced sampling + L1 based feature selection) is: \n",
            "[0.82587065 0.8159204  0.89800995 0.96268657 0.93516209 0.91022444\n",
            " 0.92518703 0.90274314 0.9325     0.9325    ]\n"
          ],
          "name": "stdout"
        }
      ]
    },
    {
      "cell_type": "code",
      "metadata": {
        "id": "Zq506B5xmirb",
        "colab_type": "code",
        "outputId": "23e71098-7714-47f2-ccd0-d62e03783ae0",
        "colab": {
          "base_uri": "https://localhost:8080/",
          "height": 122
        }
      },
      "source": [
        "#the accuracies of the K NEAREST NEIGHBOURS model with balanced sampling dataset applying 2 feature selection technique\n",
        "print(\"The accuracies of the K NEAREST NEIGHBOURS model (balanced sampling + tree based feature selection) is: \")\n",
        "print(cross_val_score(knn_clf, tb_smote_enn_train_set_prepared, smote_enn_train_labels_prepared, cv=10, scoring = score_method))\n",
        "print(\"The accuracies of the K NEAREST NEIGHBOURS model (balanced sampling + L1 based feature selection) is: \")\n",
        "print(cross_val_score(knn_clf, l_smote_enn_train_set_prepared, smote_enn_train_labels_prepared, cv=10, scoring = score_method))"
      ],
      "execution_count": 0,
      "outputs": [
        {
          "output_type": "stream",
          "text": [
            "The accuracies of the K NEAREST NEIGHBOURS model (balanced sampling + tree based feature selection) is: \n",
            "[0.88557214 0.87064677 0.92288557 0.96766169 0.89775561 0.94513716\n",
            " 0.94264339 0.95261845 0.93       0.9725    ]\n",
            "The accuracies of the K NEAREST NEIGHBOURS model (balanced sampling + L1 based feature selection) is: \n",
            "[0.81840796 0.83084577 0.89303483 0.97014925 0.90523691 0.90523691\n",
            " 0.95261845 0.9127182  0.9225     0.94      ]\n"
          ],
          "name": "stdout"
        }
      ]
    },
    {
      "cell_type": "code",
      "metadata": {
        "id": "lzaIWMCUnEs8",
        "colab_type": "code",
        "outputId": "cbb1f537-217c-470f-dbe8-c3f88b4394dc",
        "colab": {
          "base_uri": "https://localhost:8080/",
          "height": 122
        }
      },
      "source": [
        "#the accuracies of the NAIVE BAYES model with balanced sampling dataset applying 2 feature selection technique\n",
        "print(\"The accuracies of the NAIVE BAYES model (balanced sampling + tree based feature selection) is: \")\n",
        "print(cross_val_score(gnb_clf, tb_smote_enn_train_set_prepared, smote_enn_train_labels_prepared, cv=10, scoring = score_method))\n",
        "print(\"The accuracies of the NAIVE BAYES model (balanced sampling + L1 based feature selection) is: \")\n",
        "print(cross_val_score(gnb_clf, l_smote_enn_train_set_prepared, smote_enn_train_labels_prepared, cv=10, scoring = score_method))"
      ],
      "execution_count": 0,
      "outputs": [
        {
          "output_type": "stream",
          "text": [
            "The accuracies of the NAIVE BAYES model (balanced sampling + tree based feature selection) is: \n",
            "[0.66666667 0.66915423 0.74626866 0.80099502 0.81296758 0.75311721\n",
            " 0.7605985  0.78802993 0.73       0.765     ]\n",
            "The accuracies of the NAIVE BAYES model (balanced sampling + L1 based feature selection) is: \n",
            "[0.60447761 0.66169154 0.75870647 0.81343284 0.77306733 0.78802993\n",
            " 0.74563591 0.74314214 0.7375     0.7275    ]\n"
          ],
          "name": "stdout"
        }
      ]
    },
    {
      "cell_type": "code",
      "metadata": {
        "id": "i9V9DjoKncQA",
        "colab_type": "code",
        "outputId": "68c6c0a0-f4b8-4e22-c021-47474e5d5453",
        "colab": {
          "base_uri": "https://localhost:8080/",
          "height": 122
        }
      },
      "source": [
        "#the accuracies of the RULE BASED  model with balanced sampling dataset applying 2 feature selection technique\n",
        "print(\"The accuracies of the RULE BASED  model (balanced sampling + tree based feature selection) is: \")\n",
        "print(cross_val_score(dc_clf, tb_smote_enn_train_set_prepared, smote_enn_train_labels_prepared, cv=10, scoring = score_method))\n",
        "print(\"The accuracies of the RULE BASED  model (balanced sampling + L1 based feature selection) is: \")\n",
        "print(cross_val_score(dc_clf, l_smote_enn_train_set_prepared, smote_enn_train_labels_prepared, cv=10, scoring = score_method))"
      ],
      "execution_count": 0,
      "outputs": [
        {
          "output_type": "stream",
          "text": [
            "The accuracies of the RULE BASED  model (balanced sampling + tree based feature selection) is: \n",
            "[0.47761194 0.5199005  0.45771144 0.48507463 0.48379052 0.52119701\n",
            " 0.50623441 0.43890274 0.5        0.5375    ]\n",
            "The accuracies of the RULE BASED  model (balanced sampling + L1 based feature selection) is: \n",
            "[0.46268657 0.50995025 0.52238806 0.50746269 0.48129676 0.48628429\n",
            " 0.52618454 0.53117207 0.475      0.4875    ]\n"
          ],
          "name": "stdout"
        }
      ]
    },
    {
      "cell_type": "code",
      "metadata": {
        "id": "Ui44ck_rBdkB",
        "colab_type": "code",
        "colab": {}
      },
      "source": [
        ""
      ],
      "execution_count": 0,
      "outputs": []
    }
  ]
}